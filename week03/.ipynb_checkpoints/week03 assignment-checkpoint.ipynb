{
 "cells": [
  {
   "cell_type": "code",
   "execution_count": 114,
   "id": "d8bff236-b927-4031-8e5e-e87d05006d7e",
   "metadata": {},
   "outputs": [],
   "source": [
    "#Health Data in Philadelphia Counties"
   ]
  },
  {
   "cell_type": "code",
   "execution_count": 115,
   "id": "16028061-5d46-4801-aad1-5f0b87309d7a",
   "metadata": {},
   "outputs": [],
   "source": [
    "##This health data set consists of quality of life, fair on poor health, health insurance, diabetes, food environment index, and physical environment variables. I will review the data, trim, and create maps."
   ]
  },
  {
   "cell_type": "code",
   "execution_count": 116,
   "id": "b64c6a9a-01f8-415b-8cd0-ac9fb62f96f8",
   "metadata": {},
   "outputs": [],
   "source": [
    "###Author: Cassie Truong"
   ]
  },
  {
   "cell_type": "code",
   "execution_count": 117,
   "id": "574150f6-3078-4a9a-93a1-1965ac7e1838",
   "metadata": {},
   "outputs": [],
   "source": [
    "#generating a library\n",
    "import pandas as pd"
   ]
  },
  {
   "cell_type": "code",
   "execution_count": 118,
   "id": "0e82dbc0-9e68-4f6f-9e62-cd7e6400335e",
   "metadata": {},
   "outputs": [],
   "source": [
    "#loading the data file which includes all counties in Pennsylvania \n",
    "df = pd.read_csv('data/R13285248_SL050.csv')"
   ]
  },
  {
   "cell_type": "code",
   "execution_count": 119,
   "id": "81ffa9a0-2635-45e0-817a-0330507ffcc7",
   "metadata": {},
   "outputs": [
    {
     "data": {
      "text/html": [
       "<div>\n",
       "<style scoped>\n",
       "    .dataframe tbody tr th:only-of-type {\n",
       "        vertical-align: middle;\n",
       "    }\n",
       "\n",
       "    .dataframe tbody tr th {\n",
       "        vertical-align: top;\n",
       "    }\n",
       "\n",
       "    .dataframe thead th {\n",
       "        text-align: right;\n",
       "    }\n",
       "</style>\n",
       "<table border=\"1\" class=\"dataframe\">\n",
       "  <thead>\n",
       "    <tr style=\"text-align: right;\">\n",
       "      <th></th>\n",
       "      <th>Geo_FIPS</th>\n",
       "      <th>Geo_NAME</th>\n",
       "      <th>Geo_QNAME</th>\n",
       "      <th>Geo_NATION</th>\n",
       "      <th>Geo_STATE</th>\n",
       "      <th>Geo_COUNTY</th>\n",
       "      <th>SE_T001_001</th>\n",
       "      <th>SE_T001_002</th>\n",
       "      <th>SE_T002_001</th>\n",
       "      <th>SE_T006_001</th>\n",
       "      <th>...</th>\n",
       "      <th>SE_T013_001</th>\n",
       "      <th>SE_T016_001</th>\n",
       "      <th>SE_T016_002</th>\n",
       "      <th>SE_T016_003</th>\n",
       "      <th>SE_T016_004</th>\n",
       "      <th>SE_T016_005</th>\n",
       "      <th>SE_T016_006</th>\n",
       "      <th>SE_T016_007</th>\n",
       "      <th>SE_T016_008</th>\n",
       "      <th>SE_T016_009</th>\n",
       "    </tr>\n",
       "  </thead>\n",
       "  <tbody>\n",
       "    <tr>\n",
       "      <th>0</th>\n",
       "      <td>42001</td>\n",
       "      <td>Adams County</td>\n",
       "      <td>Adams County, Pennsylvania</td>\n",
       "      <td>0</td>\n",
       "      <td>42</td>\n",
       "      <td>1</td>\n",
       "      <td>3.913615</td>\n",
       "      <td>4.388497</td>\n",
       "      <td>15.315659</td>\n",
       "      <td>4.854369</td>\n",
       "      <td>...</td>\n",
       "      <td>8.9</td>\n",
       "      <td>10.6</td>\n",
       "      <td>Yes</td>\n",
       "      <td>12.255030</td>\n",
       "      <td>10.346639</td>\n",
       "      <td>1.881369</td>\n",
       "      <td>0.640188</td>\n",
       "      <td>82.562748</td>\n",
       "      <td>49205</td>\n",
       "      <td>39.5</td>\n",
       "    </tr>\n",
       "    <tr>\n",
       "      <th>1</th>\n",
       "      <td>42003</td>\n",
       "      <td>Allegheny County</td>\n",
       "      <td>Allegheny County, Pennsylvania</td>\n",
       "      <td>0</td>\n",
       "      <td>42</td>\n",
       "      <td>3</td>\n",
       "      <td>3.220145</td>\n",
       "      <td>3.835273</td>\n",
       "      <td>12.731568</td>\n",
       "      <td>2.901556</td>\n",
       "      <td>...</td>\n",
       "      <td>7.7</td>\n",
       "      <td>13.3</td>\n",
       "      <td>Yes</td>\n",
       "      <td>13.830438</td>\n",
       "      <td>12.577255</td>\n",
       "      <td>0.750365</td>\n",
       "      <td>1.275714</td>\n",
       "      <td>71.456442</td>\n",
       "      <td>613550</td>\n",
       "      <td>39.2</td>\n",
       "    </tr>\n",
       "    <tr>\n",
       "      <th>2</th>\n",
       "      <td>42005</td>\n",
       "      <td>Armstrong County</td>\n",
       "      <td>Armstrong County, Pennsylvania</td>\n",
       "      <td>0</td>\n",
       "      <td>42</td>\n",
       "      <td>5</td>\n",
       "      <td>3.952488</td>\n",
       "      <td>4.538588</td>\n",
       "      <td>16.276179</td>\n",
       "      <td>3.434266</td>\n",
       "      <td>...</td>\n",
       "      <td>8.2</td>\n",
       "      <td>11.9</td>\n",
       "      <td>Yes</td>\n",
       "      <td>10.141593</td>\n",
       "      <td>8.613295</td>\n",
       "      <td>0.902655</td>\n",
       "      <td>1.592920</td>\n",
       "      <td>83.296688</td>\n",
       "      <td>29108</td>\n",
       "      <td>44.0</td>\n",
       "    </tr>\n",
       "    <tr>\n",
       "      <th>3</th>\n",
       "      <td>42007</td>\n",
       "      <td>Beaver County</td>\n",
       "      <td>Beaver County, Pennsylvania</td>\n",
       "      <td>0</td>\n",
       "      <td>42</td>\n",
       "      <td>7</td>\n",
       "      <td>3.804373</td>\n",
       "      <td>4.248324</td>\n",
       "      <td>14.951930</td>\n",
       "      <td>2.834660</td>\n",
       "      <td>...</td>\n",
       "      <td>7.5</td>\n",
       "      <td>11.0</td>\n",
       "      <td>Yes</td>\n",
       "      <td>10.540618</td>\n",
       "      <td>9.045625</td>\n",
       "      <td>1.036899</td>\n",
       "      <td>0.793764</td>\n",
       "      <td>81.887787</td>\n",
       "      <td>79670</td>\n",
       "      <td>36.3</td>\n",
       "    </tr>\n",
       "    <tr>\n",
       "      <th>4</th>\n",
       "      <td>42009</td>\n",
       "      <td>Bedford County</td>\n",
       "      <td>Bedford County, Pennsylvania</td>\n",
       "      <td>0</td>\n",
       "      <td>42</td>\n",
       "      <td>9</td>\n",
       "      <td>3.913448</td>\n",
       "      <td>4.444887</td>\n",
       "      <td>15.521744</td>\n",
       "      <td>5.238531</td>\n",
       "      <td>...</td>\n",
       "      <td>8.4</td>\n",
       "      <td>10.6</td>\n",
       "      <td>Yes</td>\n",
       "      <td>11.617312</td>\n",
       "      <td>9.472343</td>\n",
       "      <td>1.695773</td>\n",
       "      <td>1.088332</td>\n",
       "      <td>81.165414</td>\n",
       "      <td>21280</td>\n",
       "      <td>35.1</td>\n",
       "    </tr>\n",
       "  </tbody>\n",
       "</table>\n",
       "<p>5 rows × 25 columns</p>\n",
       "</div>"
      ],
      "text/plain": [
       "   Geo_FIPS          Geo_NAME                       Geo_QNAME  Geo_NATION  \\\n",
       "0     42001      Adams County      Adams County, Pennsylvania           0   \n",
       "1     42003  Allegheny County  Allegheny County, Pennsylvania           0   \n",
       "2     42005  Armstrong County  Armstrong County, Pennsylvania           0   \n",
       "3     42007     Beaver County     Beaver County, Pennsylvania           0   \n",
       "4     42009    Bedford County    Bedford County, Pennsylvania           0   \n",
       "\n",
       "   Geo_STATE  Geo_COUNTY  SE_T001_001  SE_T001_002  SE_T002_001  SE_T006_001  \\\n",
       "0         42           1     3.913615     4.388497    15.315659     4.854369   \n",
       "1         42           3     3.220145     3.835273    12.731568     2.901556   \n",
       "2         42           5     3.952488     4.538588    16.276179     3.434266   \n",
       "3         42           7     3.804373     4.248324    14.951930     2.834660   \n",
       "4         42           9     3.913448     4.444887    15.521744     5.238531   \n",
       "\n",
       "   ...  SE_T013_001  SE_T016_001  SE_T016_002  SE_T016_003  SE_T016_004  \\\n",
       "0  ...          8.9         10.6          Yes    12.255030    10.346639   \n",
       "1  ...          7.7         13.3          Yes    13.830438    12.577255   \n",
       "2  ...          8.2         11.9          Yes    10.141593     8.613295   \n",
       "3  ...          7.5         11.0          Yes    10.540618     9.045625   \n",
       "4  ...          8.4         10.6          Yes    11.617312     9.472343   \n",
       "\n",
       "   SE_T016_005  SE_T016_006 SE_T016_007  SE_T016_008  SE_T016_009  \n",
       "0     1.881369     0.640188   82.562748        49205         39.5  \n",
       "1     0.750365     1.275714   71.456442       613550         39.2  \n",
       "2     0.902655     1.592920   83.296688        29108         44.0  \n",
       "3     1.036899     0.793764   81.887787        79670         36.3  \n",
       "4     1.695773     1.088332   81.165414        21280         35.1  \n",
       "\n",
       "[5 rows x 25 columns]"
      ]
     },
     "execution_count": 119,
     "metadata": {},
     "output_type": "execute_result"
    }
   ],
   "source": [
    "#generating a sample of the data\n",
    "df. head()"
   ]
  },
  {
   "cell_type": "code",
   "execution_count": 120,
   "id": "fefb329d-037e-4e9c-af45-02ba8acda60d",
   "metadata": {},
   "outputs": [
    {
     "name": "stdout",
     "output_type": "stream",
     "text": [
      "<class 'pandas.core.frame.DataFrame'>\n",
      "RangeIndex: 67 entries, 0 to 66\n",
      "Data columns (total 25 columns):\n",
      " #   Column        Non-Null Count  Dtype  \n",
      "---  ------        --------------  -----  \n",
      " 0   Geo_FIPS      67 non-null     int64  \n",
      " 1   Geo_NAME      67 non-null     object \n",
      " 2   Geo_QNAME     67 non-null     object \n",
      " 3   Geo_NATION    67 non-null     int64  \n",
      " 4   Geo_STATE     67 non-null     int64  \n",
      " 5   Geo_COUNTY    67 non-null     int64  \n",
      " 6   SE_T001_001   67 non-null     float64\n",
      " 7   SE_T001_002   67 non-null     float64\n",
      " 8   SE_T002_001   67 non-null     float64\n",
      " 9   SE_T006_001   67 non-null     float64\n",
      " 10  SE_T006_003   67 non-null     float64\n",
      " 11  SE_NV005_001  67 non-null     int64  \n",
      " 12  SE_NV005_003  67 non-null     int64  \n",
      " 13  SE_T009_001   67 non-null     float64\n",
      " 14  SE_NV007_001  0 non-null      float64\n",
      " 15  SE_T013_001   67 non-null     float64\n",
      " 16  SE_T016_001   67 non-null     float64\n",
      " 17  SE_T016_002   67 non-null     object \n",
      " 18  SE_T016_003   67 non-null     float64\n",
      " 19  SE_T016_004   67 non-null     float64\n",
      " 20  SE_T016_005   67 non-null     float64\n",
      " 21  SE_T016_006   67 non-null     float64\n",
      " 22  SE_T016_007   67 non-null     float64\n",
      " 23  SE_T016_008   67 non-null     int64  \n",
      " 24  SE_T016_009   67 non-null     float64\n",
      "dtypes: float64(15), int64(7), object(3)\n",
      "memory usage: 13.2+ KB\n"
     ]
    }
   ],
   "source": [
    "#looking at the types of data that are in the set\n",
    "df.info(verbose=True, show_counts=True)"
   ]
  },
  {
   "cell_type": "code",
   "execution_count": 121,
   "id": "0dc149f8-9abd-40f0-ad2a-f6d701be8c57",
   "metadata": {},
   "outputs": [],
   "source": [
    "#From the data set above, I'm going to reimport the following as a string: FIPS, STATE, COUNTY"
   ]
  },
  {
   "cell_type": "code",
   "execution_count": 122,
   "id": "fefde4be-f65d-477a-aa6f-7fd5e0c26df3",
   "metadata": {},
   "outputs": [],
   "source": [
    "#reimporting data as a string\n",
    "df = pd.read_csv(\n",
    "    'data/R13285248_SL050.csv',\n",
    "    dtype=\n",
    "    {\n",
    "        'Geo_FIPS':str,\n",
    "        'Geo_STATE':str,\n",
    "        'Geo_COUNTY':str,\n",
    "    }\n",
    ")"
   ]
  },
  {
   "cell_type": "code",
   "execution_count": 123,
   "id": "dcc403e8-2673-422a-8e7a-55ac8e3f068b",
   "metadata": {},
   "outputs": [
    {
     "name": "stdout",
     "output_type": "stream",
     "text": [
      "<class 'pandas.core.frame.DataFrame'>\n",
      "RangeIndex: 67 entries, 0 to 66\n",
      "Data columns (total 25 columns):\n",
      " #   Column        Non-Null Count  Dtype  \n",
      "---  ------        --------------  -----  \n",
      " 0   Geo_FIPS      67 non-null     object \n",
      " 1   Geo_NAME      67 non-null     object \n",
      " 2   Geo_QNAME     67 non-null     object \n",
      " 3   Geo_NATION    67 non-null     int64  \n",
      " 4   Geo_STATE     67 non-null     object \n",
      " 5   Geo_COUNTY    67 non-null     object \n",
      " 6   SE_T001_001   67 non-null     float64\n",
      " 7   SE_T001_002   67 non-null     float64\n",
      " 8   SE_T002_001   67 non-null     float64\n",
      " 9   SE_T006_001   67 non-null     float64\n",
      " 10  SE_T006_003   67 non-null     float64\n",
      " 11  SE_NV005_001  67 non-null     int64  \n",
      " 12  SE_NV005_003  67 non-null     int64  \n",
      " 13  SE_T009_001   67 non-null     float64\n",
      " 14  SE_NV007_001  0 non-null      float64\n",
      " 15  SE_T013_001   67 non-null     float64\n",
      " 16  SE_T016_001   67 non-null     float64\n",
      " 17  SE_T016_002   67 non-null     object \n",
      " 18  SE_T016_003   67 non-null     float64\n",
      " 19  SE_T016_004   67 non-null     float64\n",
      " 20  SE_T016_005   67 non-null     float64\n",
      " 21  SE_T016_006   67 non-null     float64\n",
      " 22  SE_T016_007   67 non-null     float64\n",
      " 23  SE_T016_008   67 non-null     int64  \n",
      " 24  SE_T016_009   67 non-null     float64\n",
      "dtypes: float64(15), int64(4), object(6)\n",
      "memory usage: 13.2+ KB\n"
     ]
    }
   ],
   "source": [
    "#checking if the data's been converted\n",
    "df.info(verbose=True, show_counts=True)"
   ]
  },
  {
   "cell_type": "code",
   "execution_count": 124,
   "id": "44075380-71fc-4855-9150-feb0988bc58a",
   "metadata": {},
   "outputs": [
    {
     "data": {
      "text/html": [
       "<div>\n",
       "<style scoped>\n",
       "    .dataframe tbody tr th:only-of-type {\n",
       "        vertical-align: middle;\n",
       "    }\n",
       "\n",
       "    .dataframe tbody tr th {\n",
       "        vertical-align: top;\n",
       "    }\n",
       "\n",
       "    .dataframe thead th {\n",
       "        text-align: right;\n",
       "    }\n",
       "</style>\n",
       "<table border=\"1\" class=\"dataframe\">\n",
       "  <thead>\n",
       "    <tr style=\"text-align: right;\">\n",
       "      <th></th>\n",
       "      <th>Geo_FIPS</th>\n",
       "      <th>Geo_NAME</th>\n",
       "      <th>Geo_QNAME</th>\n",
       "      <th>Geo_NATION</th>\n",
       "      <th>Geo_STATE</th>\n",
       "      <th>Geo_COUNTY</th>\n",
       "      <th>SE_T001_001</th>\n",
       "      <th>SE_T001_002</th>\n",
       "      <th>SE_T002_001</th>\n",
       "      <th>SE_T006_001</th>\n",
       "      <th>...</th>\n",
       "      <th>SE_T013_001</th>\n",
       "      <th>SE_T016_001</th>\n",
       "      <th>SE_T016_002</th>\n",
       "      <th>SE_T016_003</th>\n",
       "      <th>SE_T016_004</th>\n",
       "      <th>SE_T016_005</th>\n",
       "      <th>SE_T016_006</th>\n",
       "      <th>SE_T016_007</th>\n",
       "      <th>SE_T016_008</th>\n",
       "      <th>SE_T016_009</th>\n",
       "    </tr>\n",
       "  </thead>\n",
       "  <tbody>\n",
       "    <tr>\n",
       "      <th>12</th>\n",
       "      <td>42025</td>\n",
       "      <td>Carbon County</td>\n",
       "      <td>Carbon County, Pennsylvania</td>\n",
       "      <td>0</td>\n",
       "      <td>42</td>\n",
       "      <td>025</td>\n",
       "      <td>3.999197</td>\n",
       "      <td>4.387381</td>\n",
       "      <td>16.700429</td>\n",
       "      <td>3.963582</td>\n",
       "      <td>...</td>\n",
       "      <td>8.3</td>\n",
       "      <td>10.2</td>\n",
       "      <td>Yes</td>\n",
       "      <td>14.061592</td>\n",
       "      <td>12.468193</td>\n",
       "      <td>1.545613</td>\n",
       "      <td>1.142746</td>\n",
       "      <td>83.817038</td>\n",
       "      <td>28771</td>\n",
       "      <td>51.8</td>\n",
       "    </tr>\n",
       "    <tr>\n",
       "      <th>18</th>\n",
       "      <td>42037</td>\n",
       "      <td>Columbia County</td>\n",
       "      <td>Columbia County, Pennsylvania</td>\n",
       "      <td>0</td>\n",
       "      <td>42</td>\n",
       "      <td>037</td>\n",
       "      <td>4.065829</td>\n",
       "      <td>4.535677</td>\n",
       "      <td>16.845910</td>\n",
       "      <td>3.604345</td>\n",
       "      <td>...</td>\n",
       "      <td>8.1</td>\n",
       "      <td>10.5</td>\n",
       "      <td>Yes</td>\n",
       "      <td>12.464428</td>\n",
       "      <td>11.516680</td>\n",
       "      <td>0.872700</td>\n",
       "      <td>0.626067</td>\n",
       "      <td>84.054226</td>\n",
       "      <td>29801</td>\n",
       "      <td>28.7</td>\n",
       "    </tr>\n",
       "    <tr>\n",
       "      <th>39</th>\n",
       "      <td>42079</td>\n",
       "      <td>Luzerne County</td>\n",
       "      <td>Luzerne County, Pennsylvania</td>\n",
       "      <td>0</td>\n",
       "      <td>42</td>\n",
       "      <td>079</td>\n",
       "      <td>4.323581</td>\n",
       "      <td>4.610140</td>\n",
       "      <td>17.470788</td>\n",
       "      <td>4.097271</td>\n",
       "      <td>...</td>\n",
       "      <td>8.0</td>\n",
       "      <td>10.3</td>\n",
       "      <td>Yes</td>\n",
       "      <td>14.363016</td>\n",
       "      <td>12.955610</td>\n",
       "      <td>1.148884</td>\n",
       "      <td>0.874407</td>\n",
       "      <td>81.295501</td>\n",
       "      <td>147248</td>\n",
       "      <td>25.4</td>\n",
       "    </tr>\n",
       "    <tr>\n",
       "      <th>49</th>\n",
       "      <td>42099</td>\n",
       "      <td>Perry County</td>\n",
       "      <td>Perry County, Pennsylvania</td>\n",
       "      <td>0</td>\n",
       "      <td>42</td>\n",
       "      <td>099</td>\n",
       "      <td>3.706287</td>\n",
       "      <td>4.204321</td>\n",
       "      <td>14.256445</td>\n",
       "      <td>6.341272</td>\n",
       "      <td>...</td>\n",
       "      <td>8.6</td>\n",
       "      <td>11.4</td>\n",
       "      <td>No</td>\n",
       "      <td>9.756779</td>\n",
       "      <td>8.073136</td>\n",
       "      <td>1.397819</td>\n",
       "      <td>0.615041</td>\n",
       "      <td>79.275511</td>\n",
       "      <td>22471</td>\n",
       "      <td>58.7</td>\n",
       "    </tr>\n",
       "    <tr>\n",
       "      <th>62</th>\n",
       "      <td>42125</td>\n",
       "      <td>Washington County</td>\n",
       "      <td>Washington County, Pennsylvania</td>\n",
       "      <td>0</td>\n",
       "      <td>42</td>\n",
       "      <td>125</td>\n",
       "      <td>3.586249</td>\n",
       "      <td>4.142438</td>\n",
       "      <td>14.395119</td>\n",
       "      <td>3.291492</td>\n",
       "      <td>...</td>\n",
       "      <td>8.1</td>\n",
       "      <td>10.3</td>\n",
       "      <td>Yes</td>\n",
       "      <td>10.382709</td>\n",
       "      <td>8.992285</td>\n",
       "      <td>0.835871</td>\n",
       "      <td>1.337393</td>\n",
       "      <td>82.480601</td>\n",
       "      <td>97686</td>\n",
       "      <td>40.2</td>\n",
       "    </tr>\n",
       "  </tbody>\n",
       "</table>\n",
       "<p>5 rows × 25 columns</p>\n",
       "</div>"
      ],
      "text/plain": [
       "   Geo_FIPS           Geo_NAME                        Geo_QNAME  Geo_NATION  \\\n",
       "12    42025      Carbon County      Carbon County, Pennsylvania           0   \n",
       "18    42037    Columbia County    Columbia County, Pennsylvania           0   \n",
       "39    42079     Luzerne County     Luzerne County, Pennsylvania           0   \n",
       "49    42099       Perry County       Perry County, Pennsylvania           0   \n",
       "62    42125  Washington County  Washington County, Pennsylvania           0   \n",
       "\n",
       "   Geo_STATE Geo_COUNTY  SE_T001_001  SE_T001_002  SE_T002_001  SE_T006_001  \\\n",
       "12        42        025     3.999197     4.387381    16.700429     3.963582   \n",
       "18        42        037     4.065829     4.535677    16.845910     3.604345   \n",
       "39        42        079     4.323581     4.610140    17.470788     4.097271   \n",
       "49        42        099     3.706287     4.204321    14.256445     6.341272   \n",
       "62        42        125     3.586249     4.142438    14.395119     3.291492   \n",
       "\n",
       "    ...  SE_T013_001  SE_T016_001  SE_T016_002  SE_T016_003  SE_T016_004  \\\n",
       "12  ...          8.3         10.2          Yes    14.061592    12.468193   \n",
       "18  ...          8.1         10.5          Yes    12.464428    11.516680   \n",
       "39  ...          8.0         10.3          Yes    14.363016    12.955610   \n",
       "49  ...          8.6         11.4           No     9.756779     8.073136   \n",
       "62  ...          8.1         10.3          Yes    10.382709     8.992285   \n",
       "\n",
       "    SE_T016_005  SE_T016_006 SE_T016_007  SE_T016_008  SE_T016_009  \n",
       "12     1.545613     1.142746   83.817038        28771         51.8  \n",
       "18     0.872700     0.626067   84.054226        29801         28.7  \n",
       "39     1.148884     0.874407   81.295501       147248         25.4  \n",
       "49     1.397819     0.615041   79.275511        22471         58.7  \n",
       "62     0.835871     1.337393   82.480601        97686         40.2  \n",
       "\n",
       "[5 rows x 25 columns]"
      ]
     },
     "execution_count": 124,
     "metadata": {},
     "output_type": "execute_result"
    }
   ],
   "source": [
    "df.sample(5)"
   ]
  },
  {
   "cell_type": "code",
   "execution_count": null,
   "id": "7e7f003f-0dd3-41f3-881a-86a8797621c9",
   "metadata": {},
   "outputs": [
    {
     "data": {
      "text/plain": [
       "['SE_NV007_001']"
      ]
     },
     "execution_count": 127,
     "metadata": {},
     "output_type": "execute_result"
    }
   ],
   "source": [
    "#reviewing which column has no code\n",
    "df.columns[df.isna().all()].tolist()"
   ]
  },
  {
   "cell_type": "code",
   "execution_count": null,
   "id": "51080be4-9cc4-4dfa-9dff-d609deed3aff",
   "metadata": {},
   "outputs": [],
   "source": [
    "#the column that has no code is suppose to be data for individuals with diabetes. since it adds no value, i'm dropping the column"
   ]
  },
  {
   "cell_type": "code",
   "execution_count": 132,
   "id": "229c28b2-73ba-46d3-90e2-8654383712ce",
   "metadata": {},
   "outputs": [],
   "source": [
    "df = df.dropna(axis=1,how=\"all\")"
   ]
  },
  {
   "cell_type": "code",
   "execution_count": 133,
   "id": "f3b52c90-8f82-4dc0-881b-d0ae29615835",
   "metadata": {},
   "outputs": [],
   "source": [
    "#confirming the column has been dropped"
   ]
  },
  {
   "cell_type": "code",
   "execution_count": 135,
   "id": "f3798837-d902-4a16-938c-dac6adb97879",
   "metadata": {},
   "outputs": [
    {
     "name": "stdout",
     "output_type": "stream",
     "text": [
      "<class 'pandas.core.frame.DataFrame'>\n",
      "RangeIndex: 67 entries, 0 to 66\n",
      "Data columns (total 24 columns):\n",
      " #   Column        Non-Null Count  Dtype  \n",
      "---  ------        --------------  -----  \n",
      " 0   Geo_FIPS      67 non-null     object \n",
      " 1   Geo_NAME      67 non-null     object \n",
      " 2   Geo_QNAME     67 non-null     object \n",
      " 3   Geo_NATION    67 non-null     int64  \n",
      " 4   Geo_STATE     67 non-null     object \n",
      " 5   Geo_COUNTY    67 non-null     object \n",
      " 6   SE_T001_001   67 non-null     float64\n",
      " 7   SE_T001_002   67 non-null     float64\n",
      " 8   SE_T002_001   67 non-null     float64\n",
      " 9   SE_T006_001   67 non-null     float64\n",
      " 10  SE_T006_003   67 non-null     float64\n",
      " 11  SE_NV005_001  67 non-null     int64  \n",
      " 12  SE_NV005_003  67 non-null     int64  \n",
      " 13  SE_T009_001   67 non-null     float64\n",
      " 14  SE_T013_001   67 non-null     float64\n",
      " 15  SE_T016_001   67 non-null     float64\n",
      " 16  SE_T016_002   67 non-null     object \n",
      " 17  SE_T016_003   67 non-null     float64\n",
      " 18  SE_T016_004   67 non-null     float64\n",
      " 19  SE_T016_005   67 non-null     float64\n",
      " 20  SE_T016_006   67 non-null     float64\n",
      " 21  SE_T016_007   67 non-null     float64\n",
      " 22  SE_T016_008   67 non-null     int64  \n",
      " 23  SE_T016_009   67 non-null     float64\n",
      "dtypes: float64(14), int64(4), object(6)\n",
      "memory usage: 12.7+ KB\n"
     ]
    }
   ],
   "source": [
    "df.info()"
   ]
  },
  {
   "cell_type": "code",
   "execution_count": 136,
   "id": "8e972721-62a2-4afe-b507-00a03164305e",
   "metadata": {},
   "outputs": [
    {
     "ename": "SyntaxError",
     "evalue": "illegal target for annotation (421225674.py, line 2)",
     "output_type": "error",
     "traceback": [
      "\u001b[0;36m  Cell \u001b[0;32mIn[136], line 2\u001b[0;36m\u001b[0m\n\u001b[0;31m    - FIPS: FIPS\u001b[0m\n\u001b[0m    ^\u001b[0m\n\u001b[0;31mSyntaxError\u001b[0m\u001b[0;31m:\u001b[0m illegal target for annotation\n"
     ]
    }
   ],
   "source": [
    "#From the dictionary, the columns that will be kept include: \n",
    "- FIPS: FIPS\n",
    "- NAME: Name of Area\n",
    "- T013_001: Food Environment Index\n",
    "- T001_001: Physically Unhealthy Days per Month (Persons 18 Years and Over)\n",
    "- T001_002: Mentally Unhealthy Days per Month (Persons 18 Years and Over)\n",
    "- T016_001: Air Pollution Particulate Matter Average Daily Pm2.5"
   ]
  },
  {
   "cell_type": "code",
   "execution_count": 137,
   "id": "c9527af9-cb3b-4288-af3a-76dde947ab8b",
   "metadata": {},
   "outputs": [],
   "source": [
    "#Creating a new variable to keep the aforementioned columns\n",
    "columns_to_keep = ['Geo_FIPS',\n",
    "                   'Geo_NAME',\n",
    "                   'SE_T013_001',\n",
    "                   'SE_T001_001',\n",
    "                   'SE_T001_002',\n",
    "                   'SE_T016_001']"
   ]
  },
  {
   "cell_type": "code",
   "execution_count": 138,
   "id": "c0dfdfcf-85a2-4460-a27f-1af5ae75f43f",
   "metadata": {},
   "outputs": [],
   "source": [
    "df2 = df[columns_to_keep]"
   ]
  },
  {
   "cell_type": "code",
   "execution_count": 139,
   "id": "499b165f-5999-48b8-8d3b-598c7155db05",
   "metadata": {},
   "outputs": [
    {
     "data": {
      "text/html": [
       "<div>\n",
       "<style scoped>\n",
       "    .dataframe tbody tr th:only-of-type {\n",
       "        vertical-align: middle;\n",
       "    }\n",
       "\n",
       "    .dataframe tbody tr th {\n",
       "        vertical-align: top;\n",
       "    }\n",
       "\n",
       "    .dataframe thead th {\n",
       "        text-align: right;\n",
       "    }\n",
       "</style>\n",
       "<table border=\"1\" class=\"dataframe\">\n",
       "  <thead>\n",
       "    <tr style=\"text-align: right;\">\n",
       "      <th></th>\n",
       "      <th>Geo_FIPS</th>\n",
       "      <th>Geo_NAME</th>\n",
       "      <th>SE_T013_001</th>\n",
       "      <th>SE_T001_001</th>\n",
       "      <th>SE_T001_002</th>\n",
       "      <th>SE_T016_001</th>\n",
       "    </tr>\n",
       "  </thead>\n",
       "  <tbody>\n",
       "    <tr>\n",
       "      <th>34</th>\n",
       "      <td>42069</td>\n",
       "      <td>Lackawanna County</td>\n",
       "      <td>8.1</td>\n",
       "      <td>4.187632</td>\n",
       "      <td>4.557795</td>\n",
       "      <td>9.9</td>\n",
       "    </tr>\n",
       "    <tr>\n",
       "      <th>23</th>\n",
       "      <td>42047</td>\n",
       "      <td>Elk County</td>\n",
       "      <td>8.6</td>\n",
       "      <td>3.899935</td>\n",
       "      <td>4.320439</td>\n",
       "      <td>9.8</td>\n",
       "    </tr>\n",
       "    <tr>\n",
       "      <th>62</th>\n",
       "      <td>42125</td>\n",
       "      <td>Washington County</td>\n",
       "      <td>8.1</td>\n",
       "      <td>3.586249</td>\n",
       "      <td>4.142438</td>\n",
       "      <td>10.3</td>\n",
       "    </tr>\n",
       "    <tr>\n",
       "      <th>11</th>\n",
       "      <td>42023</td>\n",
       "      <td>Cameron County</td>\n",
       "      <td>7.9</td>\n",
       "      <td>4.081304</td>\n",
       "      <td>4.501331</td>\n",
       "      <td>8.9</td>\n",
       "    </tr>\n",
       "    <tr>\n",
       "      <th>63</th>\n",
       "      <td>42127</td>\n",
       "      <td>Wayne County</td>\n",
       "      <td>8.6</td>\n",
       "      <td>3.915942</td>\n",
       "      <td>4.252721</td>\n",
       "      <td>9.2</td>\n",
       "    </tr>\n",
       "  </tbody>\n",
       "</table>\n",
       "</div>"
      ],
      "text/plain": [
       "   Geo_FIPS           Geo_NAME  SE_T013_001  SE_T001_001  SE_T001_002  \\\n",
       "34    42069  Lackawanna County          8.1     4.187632     4.557795   \n",
       "23    42047         Elk County          8.6     3.899935     4.320439   \n",
       "62    42125  Washington County          8.1     3.586249     4.142438   \n",
       "11    42023     Cameron County          7.9     4.081304     4.501331   \n",
       "63    42127       Wayne County          8.6     3.915942     4.252721   \n",
       "\n",
       "    SE_T016_001  \n",
       "34          9.9  \n",
       "23          9.8  \n",
       "62         10.3  \n",
       "11          8.9  \n",
       "63          9.2  "
      ]
     },
     "execution_count": 139,
     "metadata": {},
     "output_type": "execute_result"
    }
   ],
   "source": [
    "#confirming data\n",
    "df2.sample(5)"
   ]
  },
  {
   "cell_type": "code",
   "execution_count": 140,
   "id": "a6070e73-2a16-4dcc-b861-ed42bd4d97f1",
   "metadata": {},
   "outputs": [
    {
     "data": {
      "text/plain": [
       "['Geo_FIPS',\n",
       " 'Geo_NAME',\n",
       " 'SE_T013_001',\n",
       " 'SE_T001_001',\n",
       " 'SE_T001_002',\n",
       " 'SE_T016_001']"
      ]
     },
     "execution_count": 140,
     "metadata": {},
     "output_type": "execute_result"
    }
   ],
   "source": [
    "#renaming columns by first creating a list of how they are named now\n",
    "columns = list(df2)\n",
    "columns"
   ]
  },
  {
   "cell_type": "code",
   "execution_count": 141,
   "id": "5e9ece53-5001-475a-ab39-1a60fb295973",
   "metadata": {},
   "outputs": [],
   "source": [
    "#keeping the same sequence, now renaming the columns\n",
    "df2.columns = ['FIPS',\n",
    "               'County',\n",
    "               'Food Env Index',\n",
    "               'Physically Unhealthy Days/Month',\n",
    "               'Mentally Unhealthy Days/Month',\n",
    "               'Air Pollution Particulate Matter Avg. Daily PM 2.5'\n",
    "              ]"
   ]
  },
  {
   "cell_type": "code",
   "execution_count": 143,
   "id": "fd0e7521-1b41-448d-89ef-b7a2c90fb131",
   "metadata": {},
   "outputs": [
    {
     "data": {
      "text/html": [
       "<div>\n",
       "<style scoped>\n",
       "    .dataframe tbody tr th:only-of-type {\n",
       "        vertical-align: middle;\n",
       "    }\n",
       "\n",
       "    .dataframe tbody tr th {\n",
       "        vertical-align: top;\n",
       "    }\n",
       "\n",
       "    .dataframe thead th {\n",
       "        text-align: right;\n",
       "    }\n",
       "</style>\n",
       "<table border=\"1\" class=\"dataframe\">\n",
       "  <thead>\n",
       "    <tr style=\"text-align: right;\">\n",
       "      <th></th>\n",
       "      <th>FIPS</th>\n",
       "      <th>County</th>\n",
       "      <th>Food Env Index</th>\n",
       "      <th>Physically Unhealthy Days/Month</th>\n",
       "      <th>Mentally Unhealthy Days/Month</th>\n",
       "      <th>Air Pollution Particulate Matter Avg. Daily PM 2.5</th>\n",
       "    </tr>\n",
       "  </thead>\n",
       "  <tbody>\n",
       "    <tr>\n",
       "      <th>45</th>\n",
       "      <td>42091</td>\n",
       "      <td>Montgomery County</td>\n",
       "      <td>8.7</td>\n",
       "      <td>3.187519</td>\n",
       "      <td>3.925691</td>\n",
       "      <td>9.2</td>\n",
       "    </tr>\n",
       "  </tbody>\n",
       "</table>\n",
       "</div>"
      ],
      "text/plain": [
       "     FIPS             County  Food Env Index  Physically Unhealthy Days/Month  \\\n",
       "45  42091  Montgomery County             8.7                         3.187519   \n",
       "\n",
       "    Mentally Unhealthy Days/Month  \\\n",
       "45                       3.925691   \n",
       "\n",
       "    Air Pollution Particulate Matter Avg. Daily PM 2.5  \n",
       "45                                                9.2   "
      ]
     },
     "execution_count": 143,
     "metadata": {},
     "output_type": "execute_result"
    }
   ],
   "source": [
    "#confirming renamed columns\n",
    "df2.sample()"
   ]
  },
  {
   "cell_type": "code",
   "execution_count": 144,
   "id": "7224a32b-8348-4be2-8168-600627bc44db",
   "metadata": {},
   "outputs": [
    {
     "data": {
      "text/html": [
       "<div>\n",
       "<style scoped>\n",
       "    .dataframe tbody tr th:only-of-type {\n",
       "        vertical-align: middle;\n",
       "    }\n",
       "\n",
       "    .dataframe tbody tr th {\n",
       "        vertical-align: top;\n",
       "    }\n",
       "\n",
       "    .dataframe thead th {\n",
       "        text-align: right;\n",
       "    }\n",
       "</style>\n",
       "<table border=\"1\" class=\"dataframe\">\n",
       "  <thead>\n",
       "    <tr style=\"text-align: right;\">\n",
       "      <th></th>\n",
       "      <th>FIPS</th>\n",
       "      <th>County</th>\n",
       "      <th>Food Env Index</th>\n",
       "      <th>Physically Unhealthy Days/Month</th>\n",
       "      <th>Mentally Unhealthy Days/Month</th>\n",
       "      <th>Air Pollution Particulate Matter Avg. Daily PM 2.5</th>\n",
       "    </tr>\n",
       "  </thead>\n",
       "  <tbody>\n",
       "    <tr>\n",
       "      <th>57</th>\n",
       "      <td>42115</td>\n",
       "      <td>Susquehanna County</td>\n",
       "      <td>8.5</td>\n",
       "      <td>4.040530</td>\n",
       "      <td>4.383709</td>\n",
       "      <td>9.2</td>\n",
       "    </tr>\n",
       "    <tr>\n",
       "      <th>20</th>\n",
       "      <td>42041</td>\n",
       "      <td>Cumberland County</td>\n",
       "      <td>8.5</td>\n",
       "      <td>3.632992</td>\n",
       "      <td>4.073268</td>\n",
       "      <td>9.8</td>\n",
       "    </tr>\n",
       "    <tr>\n",
       "      <th>55</th>\n",
       "      <td>42111</td>\n",
       "      <td>Somerset County</td>\n",
       "      <td>7.9</td>\n",
       "      <td>3.856948</td>\n",
       "      <td>4.269974</td>\n",
       "      <td>10.7</td>\n",
       "    </tr>\n",
       "    <tr>\n",
       "      <th>32</th>\n",
       "      <td>42065</td>\n",
       "      <td>Jefferson County</td>\n",
       "      <td>8.3</td>\n",
       "      <td>4.081392</td>\n",
       "      <td>4.434794</td>\n",
       "      <td>10.8</td>\n",
       "    </tr>\n",
       "    <tr>\n",
       "      <th>22</th>\n",
       "      <td>42045</td>\n",
       "      <td>Delaware County</td>\n",
       "      <td>8.2</td>\n",
       "      <td>3.805849</td>\n",
       "      <td>4.007199</td>\n",
       "      <td>11.9</td>\n",
       "    </tr>\n",
       "  </tbody>\n",
       "</table>\n",
       "</div>"
      ],
      "text/plain": [
       "     FIPS              County  Food Env Index  \\\n",
       "57  42115  Susquehanna County             8.5   \n",
       "20  42041   Cumberland County             8.5   \n",
       "55  42111     Somerset County             7.9   \n",
       "32  42065    Jefferson County             8.3   \n",
       "22  42045     Delaware County             8.2   \n",
       "\n",
       "    Physically Unhealthy Days/Month  Mentally Unhealthy Days/Month  \\\n",
       "57                         4.040530                       4.383709   \n",
       "20                         3.632992                       4.073268   \n",
       "55                         3.856948                       4.269974   \n",
       "32                         4.081392                       4.434794   \n",
       "22                         3.805849                       4.007199   \n",
       "\n",
       "    Air Pollution Particulate Matter Avg. Daily PM 2.5  \n",
       "57                                                9.2   \n",
       "20                                                9.8   \n",
       "55                                               10.7   \n",
       "32                                               10.8   \n",
       "22                                               11.9   "
      ]
     },
     "execution_count": 144,
     "metadata": {},
     "output_type": "execute_result"
    }
   ],
   "source": [
    "df2.sample(5)"
   ]
  },
  {
   "cell_type": "code",
   "execution_count": null,
   "id": "7bc94c98-d2b6-420c-949b-420985364b9b",
   "metadata": {},
   "outputs": [],
   "source": [
    "#Now, I'm going to focus in on Food Environment Index, which ranges from 0 (worst ) to 10 (best) and equally weighs two incidators of the environment: limited access to healthy foods and food insecurity. \n",
    "df2['Food Env Index'].describe()"
   ]
  },
  {
   "cell_type": "code",
   "execution_count": null,
   "id": "92a8cec5-47bc-4e3d-8b2d-ee91fa79485f",
   "metadata": {},
   "outputs": [],
   "source": [
    "df2['Food Env Index'].median()"
   ]
  },
  {
   "cell_type": "code",
   "execution_count": null,
   "id": "eeaf1155-7626-466a-a09f-ac644d2ab6cd",
   "metadata": {},
   "outputs": [],
   "source": [
    "#It seems like across all counties in Philadelphia have decent access to healthy foods. "
   ]
  },
  {
   "cell_type": "code",
   "execution_count": null,
   "id": "864fb8f5-7b5e-42a3-92d0-c2117b561ec8",
   "metadata": {},
   "outputs": [],
   "source": [
    "df2['Air Pollution Particulate Matter Avg. Daily PM 2.5'].describe()"
   ]
  },
  {
   "cell_type": "code",
   "execution_count": null,
   "id": "16d467ed-730a-4bfb-8b4e-1d622e81ab82",
   "metadata": {},
   "outputs": [],
   "source": [
    "#This category of data shows the average Daily PM for the county. It looks like PM is higher than 2.5, with the lowest being 8.5 and highest being 13.3. "
   ]
  },
  {
   "cell_type": "code",
   "execution_count": null,
   "id": "497d8038-a106-4086-bf28-4b4c4831011f",
   "metadata": {},
   "outputs": [],
   "source": [
    "#generating statistics for physically unhealthy days per month.\n",
    "df2['Physically Unhealthy Days/Month'].describe()"
   ]
  },
  {
   "cell_type": "code",
   "execution_count": null,
   "id": "bbcdaac6-dcb1-414d-bf28-22024648f851",
   "metadata": {},
   "outputs": [],
   "source": [
    "#generating statistics for mentally unhealthy days per month.\n",
    "df2['Mentally Unhealthy Days/Month'].describe()"
   ]
  },
  {
   "cell_type": "code",
   "execution_count": null,
   "id": "8336bd50-ecd8-4f62-8b74-0976bc95a7a2",
   "metadata": {},
   "outputs": [],
   "source": [
    "#generating a scatter plot looking at physically unhealthy days/month against air pollution particulate matter.\n",
    "df2.plot.scatter(x='Physically Unhealthy Days/Month', y='Air Pollution Particulate Matter Avg. Daily PM 2.5')"
   ]
  },
  {
   "cell_type": "code",
   "execution_count": null,
   "id": "c72e4ccb-ee86-4b48-a3ab-c15ac12df0db",
   "metadata": {},
   "outputs": [],
   "source": [
    "#generating a scatter plot looking at mentally unhealthy days/month against air pollution particulate matter.\n",
    "df2.plot.scatter(x='Mentally Unhealthy Days/Month', y='Air Pollution Particulate Matter Avg. Daily PM 2.5')"
   ]
  },
  {
   "cell_type": "code",
   "execution_count": null,
   "id": "9fdc4d79-13d4-4426-94cc-36194fae2219",
   "metadata": {},
   "outputs": [],
   "source": [
    "#Sorting the data from lowest to highest physically unhealthy days/month\n",
    "df2_physunhlthsorted = df2.sort_values(by= 'Physically Unhealthy Days/Month', ascending = True)"
   ]
  },
  {
   "cell_type": "code",
   "execution_count": null,
   "id": "736d7f67-3d39-4d3d-baee-f012abde0c8f",
   "metadata": {},
   "outputs": [],
   "source": [
    "#checking data\n",
    "df2_physunhlthsorted"
   ]
  },
  {
   "cell_type": "code",
   "execution_count": null,
   "id": "9e838ad8-01b6-4d6c-b9a8-3903632a2869",
   "metadata": {},
   "outputs": [],
   "source": [
    "#creating a horizontal bar graph with the first ten rows of the sorted data\n",
    "df2_physunhlthsorted.head(10).plot.barh(x='County',\n",
    "                                        y='Physically Unhealthy Days/Month',\n",
    "                                        title= 'Top 10 Counties in Philadelphia with Lowest Pysically Unhealthy Day/month',\n",
    "                                        color= 'pink')"
   ]
  },
  {
   "cell_type": "code",
   "execution_count": null,
   "id": "9e977e60-8e3d-4dd5-90f9-35ba0a95c70d",
   "metadata": {},
   "outputs": [],
   "source": [
    "#Sorting the data from lowest to highest access to healthy foods\n",
    "df2_foodenvsorted = df2.sort_values(by= 'Food Env Index', ascending = True)"
   ]
  },
  {
   "cell_type": "code",
   "execution_count": null,
   "id": "2710bf5a-2019-4285-a41b-2a8285e341de",
   "metadata": {},
   "outputs": [],
   "source": [
    "df2_foodenvsorted "
   ]
  },
  {
   "cell_type": "code",
   "execution_count": null,
   "id": "c6be7d0e-507b-4b6a-aba7-a5664eaf61f2",
   "metadata": {},
   "outputs": [],
   "source": [
    "#creating a horizontal bar graph with the first ten rows of the sorted data\n",
    "df2_foodenvsorted.head(10).plot.barh(x='County',\n",
    "                                        y='Food Env Index',\n",
    "                                        title= 'Top 10 Counties in Philadelphia with Lowest Access to Healthy Foods',\n",
    "                                        color= 'teal')"
   ]
  },
  {
   "cell_type": "code",
   "execution_count": 151,
   "id": "d51abd08-2d07-4c52-bce3-2cffaa395278",
   "metadata": {},
   "outputs": [
    {
     "ename": "IndexError",
     "evalue": "positional indexers are out-of-bounds",
     "output_type": "error",
     "traceback": [
      "\u001b[0;31m---------------------------------------------------------------------------\u001b[0m",
      "\u001b[0;31mIndexError\u001b[0m                                Traceback (most recent call last)",
      "File \u001b[0;32m/opt/conda/lib/python3.10/site-packages/pandas/core/indexing.py:1587\u001b[0m, in \u001b[0;36m_iLocIndexer._get_list_axis\u001b[0;34m(self, key, axis)\u001b[0m\n\u001b[1;32m   1586\u001b[0m \u001b[38;5;28;01mtry\u001b[39;00m:\n\u001b[0;32m-> 1587\u001b[0m     \u001b[38;5;28;01mreturn\u001b[39;00m \u001b[38;5;28;43mself\u001b[39;49m\u001b[38;5;241;43m.\u001b[39;49m\u001b[43mobj\u001b[49m\u001b[38;5;241;43m.\u001b[39;49m\u001b[43m_take_with_is_copy\u001b[49m\u001b[43m(\u001b[49m\u001b[43mkey\u001b[49m\u001b[43m,\u001b[49m\u001b[43m \u001b[49m\u001b[43maxis\u001b[49m\u001b[38;5;241;43m=\u001b[39;49m\u001b[43maxis\u001b[49m\u001b[43m)\u001b[49m\n\u001b[1;32m   1588\u001b[0m \u001b[38;5;28;01mexcept\u001b[39;00m \u001b[38;5;167;01mIndexError\u001b[39;00m \u001b[38;5;28;01mas\u001b[39;00m err:\n\u001b[1;32m   1589\u001b[0m     \u001b[38;5;66;03m# re-raise with different error message\u001b[39;00m\n",
      "File \u001b[0;32m/opt/conda/lib/python3.10/site-packages/pandas/core/generic.py:3902\u001b[0m, in \u001b[0;36mNDFrame._take_with_is_copy\u001b[0;34m(self, indices, axis)\u001b[0m\n\u001b[1;32m   3895\u001b[0m \u001b[38;5;250m\u001b[39m\u001b[38;5;124;03m\"\"\"\u001b[39;00m\n\u001b[1;32m   3896\u001b[0m \u001b[38;5;124;03mInternal version of the `take` method that sets the `_is_copy`\u001b[39;00m\n\u001b[1;32m   3897\u001b[0m \u001b[38;5;124;03mattribute to keep track of the parent dataframe (using in indexing\u001b[39;00m\n\u001b[0;32m   (...)\u001b[0m\n\u001b[1;32m   3900\u001b[0m \u001b[38;5;124;03mSee the docstring of `take` for full explanation of the parameters.\u001b[39;00m\n\u001b[1;32m   3901\u001b[0m \u001b[38;5;124;03m\"\"\"\u001b[39;00m\n\u001b[0;32m-> 3902\u001b[0m result \u001b[38;5;241m=\u001b[39m \u001b[38;5;28;43mself\u001b[39;49m\u001b[38;5;241;43m.\u001b[39;49m\u001b[43m_take\u001b[49m\u001b[43m(\u001b[49m\u001b[43mindices\u001b[49m\u001b[38;5;241;43m=\u001b[39;49m\u001b[43mindices\u001b[49m\u001b[43m,\u001b[49m\u001b[43m \u001b[49m\u001b[43maxis\u001b[49m\u001b[38;5;241;43m=\u001b[39;49m\u001b[43maxis\u001b[49m\u001b[43m)\u001b[49m\n\u001b[1;32m   3903\u001b[0m \u001b[38;5;66;03m# Maybe set copy if we didn't actually change the index.\u001b[39;00m\n",
      "File \u001b[0;32m/opt/conda/lib/python3.10/site-packages/pandas/core/generic.py:3886\u001b[0m, in \u001b[0;36mNDFrame._take\u001b[0;34m(self, indices, axis, convert_indices)\u001b[0m\n\u001b[1;32m   3884\u001b[0m \u001b[38;5;28mself\u001b[39m\u001b[38;5;241m.\u001b[39m_consolidate_inplace()\n\u001b[0;32m-> 3886\u001b[0m new_data \u001b[38;5;241m=\u001b[39m \u001b[38;5;28;43mself\u001b[39;49m\u001b[38;5;241;43m.\u001b[39;49m\u001b[43m_mgr\u001b[49m\u001b[38;5;241;43m.\u001b[39;49m\u001b[43mtake\u001b[49m\u001b[43m(\u001b[49m\n\u001b[1;32m   3887\u001b[0m \u001b[43m    \u001b[49m\u001b[43mindices\u001b[49m\u001b[43m,\u001b[49m\n\u001b[1;32m   3888\u001b[0m \u001b[43m    \u001b[49m\u001b[43maxis\u001b[49m\u001b[38;5;241;43m=\u001b[39;49m\u001b[38;5;28;43mself\u001b[39;49m\u001b[38;5;241;43m.\u001b[39;49m\u001b[43m_get_block_manager_axis\u001b[49m\u001b[43m(\u001b[49m\u001b[43maxis\u001b[49m\u001b[43m)\u001b[49m\u001b[43m,\u001b[49m\n\u001b[1;32m   3889\u001b[0m \u001b[43m    \u001b[49m\u001b[43mverify\u001b[49m\u001b[38;5;241;43m=\u001b[39;49m\u001b[38;5;28;43;01mTrue\u001b[39;49;00m\u001b[43m,\u001b[49m\n\u001b[1;32m   3890\u001b[0m \u001b[43m    \u001b[49m\u001b[43mconvert_indices\u001b[49m\u001b[38;5;241;43m=\u001b[39;49m\u001b[43mconvert_indices\u001b[49m\u001b[43m,\u001b[49m\n\u001b[1;32m   3891\u001b[0m \u001b[43m\u001b[49m\u001b[43m)\u001b[49m\n\u001b[1;32m   3892\u001b[0m \u001b[38;5;28;01mreturn\u001b[39;00m \u001b[38;5;28mself\u001b[39m\u001b[38;5;241m.\u001b[39m_constructor(new_data)\u001b[38;5;241m.\u001b[39m__finalize__(\u001b[38;5;28mself\u001b[39m, method\u001b[38;5;241m=\u001b[39m\u001b[38;5;124m\"\u001b[39m\u001b[38;5;124mtake\u001b[39m\u001b[38;5;124m\"\u001b[39m)\n",
      "File \u001b[0;32m/opt/conda/lib/python3.10/site-packages/pandas/core/internals/managers.py:977\u001b[0m, in \u001b[0;36mBaseBlockManager.take\u001b[0;34m(self, indexer, axis, verify, convert_indices)\u001b[0m\n\u001b[1;32m    976\u001b[0m \u001b[38;5;28;01mif\u001b[39;00m convert_indices:\n\u001b[0;32m--> 977\u001b[0m     indexer \u001b[38;5;241m=\u001b[39m \u001b[43mmaybe_convert_indices\u001b[49m\u001b[43m(\u001b[49m\u001b[43mindexer\u001b[49m\u001b[43m,\u001b[49m\u001b[43m \u001b[49m\u001b[43mn\u001b[49m\u001b[43m,\u001b[49m\u001b[43m \u001b[49m\u001b[43mverify\u001b[49m\u001b[38;5;241;43m=\u001b[39;49m\u001b[43mverify\u001b[49m\u001b[43m)\u001b[49m\n\u001b[1;32m    979\u001b[0m new_labels \u001b[38;5;241m=\u001b[39m \u001b[38;5;28mself\u001b[39m\u001b[38;5;241m.\u001b[39maxes[axis]\u001b[38;5;241m.\u001b[39mtake(indexer)\n",
      "File \u001b[0;32m/opt/conda/lib/python3.10/site-packages/pandas/core/indexers/utils.py:286\u001b[0m, in \u001b[0;36mmaybe_convert_indices\u001b[0;34m(indices, n, verify)\u001b[0m\n\u001b[1;32m    285\u001b[0m     \u001b[38;5;28;01mif\u001b[39;00m mask\u001b[38;5;241m.\u001b[39many():\n\u001b[0;32m--> 286\u001b[0m         \u001b[38;5;28;01mraise\u001b[39;00m \u001b[38;5;167;01mIndexError\u001b[39;00m(\u001b[38;5;124m\"\u001b[39m\u001b[38;5;124mindices are out-of-bounds\u001b[39m\u001b[38;5;124m\"\u001b[39m)\n\u001b[1;32m    287\u001b[0m \u001b[38;5;28;01mreturn\u001b[39;00m indices\n",
      "\u001b[0;31mIndexError\u001b[0m: indices are out-of-bounds",
      "\nThe above exception was the direct cause of the following exception:\n",
      "\u001b[0;31mIndexError\u001b[0m                                Traceback (most recent call last)",
      "Cell \u001b[0;32mIn[151], line 2\u001b[0m\n\u001b[1;32m      1\u001b[0m \u001b[38;5;66;03m#filtering data for counties in Philadelphia only\u001b[39;00m\n\u001b[0;32m----> 2\u001b[0m \u001b[43mdf2\u001b[49m\u001b[38;5;241;43m.\u001b[39;49m\u001b[43miloc\u001b[49m\u001b[43m[\u001b[49m\u001b[43m[\u001b[49m\u001b[38;5;124;43m'\u001b[39;49m\u001b[38;5;124;43m42017\u001b[39;49m\u001b[38;5;124;43m'\u001b[39;49m\u001b[43m,\u001b[49m\u001b[38;5;124;43m'\u001b[39;49m\u001b[38;5;124;43m42029\u001b[39;49m\u001b[38;5;124;43m'\u001b[39;49m\u001b[43m,\u001b[49m\u001b[38;5;124;43m'\u001b[39;49m\u001b[38;5;124;43m42045\u001b[39;49m\u001b[38;5;124;43m'\u001b[39;49m\u001b[43m]\u001b[49m\u001b[43m]\u001b[49m\n",
      "File \u001b[0;32m/opt/conda/lib/python3.10/site-packages/pandas/core/indexing.py:1073\u001b[0m, in \u001b[0;36m_LocationIndexer.__getitem__\u001b[0;34m(self, key)\u001b[0m\n\u001b[1;32m   1070\u001b[0m axis \u001b[38;5;241m=\u001b[39m \u001b[38;5;28mself\u001b[39m\u001b[38;5;241m.\u001b[39maxis \u001b[38;5;129;01mor\u001b[39;00m \u001b[38;5;241m0\u001b[39m\n\u001b[1;32m   1072\u001b[0m maybe_callable \u001b[38;5;241m=\u001b[39m com\u001b[38;5;241m.\u001b[39mapply_if_callable(key, \u001b[38;5;28mself\u001b[39m\u001b[38;5;241m.\u001b[39mobj)\n\u001b[0;32m-> 1073\u001b[0m \u001b[38;5;28;01mreturn\u001b[39;00m \u001b[38;5;28;43mself\u001b[39;49m\u001b[38;5;241;43m.\u001b[39;49m\u001b[43m_getitem_axis\u001b[49m\u001b[43m(\u001b[49m\u001b[43mmaybe_callable\u001b[49m\u001b[43m,\u001b[49m\u001b[43m \u001b[49m\u001b[43maxis\u001b[49m\u001b[38;5;241;43m=\u001b[39;49m\u001b[43maxis\u001b[49m\u001b[43m)\u001b[49m\n",
      "File \u001b[0;32m/opt/conda/lib/python3.10/site-packages/pandas/core/indexing.py:1616\u001b[0m, in \u001b[0;36m_iLocIndexer._getitem_axis\u001b[0;34m(self, key, axis)\u001b[0m\n\u001b[1;32m   1614\u001b[0m \u001b[38;5;66;03m# a list of integers\u001b[39;00m\n\u001b[1;32m   1615\u001b[0m \u001b[38;5;28;01melif\u001b[39;00m is_list_like_indexer(key):\n\u001b[0;32m-> 1616\u001b[0m     \u001b[38;5;28;01mreturn\u001b[39;00m \u001b[38;5;28;43mself\u001b[39;49m\u001b[38;5;241;43m.\u001b[39;49m\u001b[43m_get_list_axis\u001b[49m\u001b[43m(\u001b[49m\u001b[43mkey\u001b[49m\u001b[43m,\u001b[49m\u001b[43m \u001b[49m\u001b[43maxis\u001b[49m\u001b[38;5;241;43m=\u001b[39;49m\u001b[43maxis\u001b[49m\u001b[43m)\u001b[49m\n\u001b[1;32m   1618\u001b[0m \u001b[38;5;66;03m# a single integer\u001b[39;00m\n\u001b[1;32m   1619\u001b[0m \u001b[38;5;28;01melse\u001b[39;00m:\n\u001b[1;32m   1620\u001b[0m     key \u001b[38;5;241m=\u001b[39m item_from_zerodim(key)\n",
      "File \u001b[0;32m/opt/conda/lib/python3.10/site-packages/pandas/core/indexing.py:1590\u001b[0m, in \u001b[0;36m_iLocIndexer._get_list_axis\u001b[0;34m(self, key, axis)\u001b[0m\n\u001b[1;32m   1587\u001b[0m     \u001b[38;5;28;01mreturn\u001b[39;00m \u001b[38;5;28mself\u001b[39m\u001b[38;5;241m.\u001b[39mobj\u001b[38;5;241m.\u001b[39m_take_with_is_copy(key, axis\u001b[38;5;241m=\u001b[39maxis)\n\u001b[1;32m   1588\u001b[0m \u001b[38;5;28;01mexcept\u001b[39;00m \u001b[38;5;167;01mIndexError\u001b[39;00m \u001b[38;5;28;01mas\u001b[39;00m err:\n\u001b[1;32m   1589\u001b[0m     \u001b[38;5;66;03m# re-raise with different error message\u001b[39;00m\n\u001b[0;32m-> 1590\u001b[0m     \u001b[38;5;28;01mraise\u001b[39;00m \u001b[38;5;167;01mIndexError\u001b[39;00m(\u001b[38;5;124m\"\u001b[39m\u001b[38;5;124mpositional indexers are out-of-bounds\u001b[39m\u001b[38;5;124m\"\u001b[39m) \u001b[38;5;28;01mfrom\u001b[39;00m \u001b[38;5;21;01merr\u001b[39;00m\n",
      "\u001b[0;31mIndexError\u001b[0m: positional indexers are out-of-bounds"
     ]
    }
   ],
   "source": [
    "#filtering data for counties in Philadelphia only\n"
   ]
  },
  {
   "cell_type": "code",
   "execution_count": null,
   "id": "788981f3-dfcd-4b59-844c-837aa7a5d71f",
   "metadata": {},
   "outputs": [],
   "source": [
    "#filtering data for counties in Philadelphia only\n",
    "df2[df2['County']== 'Bucks County']"
   ]
  },
  {
   "cell_type": "code",
   "execution_count": null,
   "id": "d5ed8ed3-34a4-46c3-bdec-6e03fbba60fd",
   "metadata": {},
   "outputs": [],
   "source": [
    "#saving the variable\n",
    "df2_bucks = df2[df2['FIPS']== '42017']"
   ]
  },
  {
   "cell_type": "code",
   "execution_count": null,
   "id": "a26f942b-6933-4c8a-a4d9-935077b5235d",
   "metadata": {},
   "outputs": [],
   "source": [
    "df2_bucks"
   ]
  },
  {
   "cell_type": "code",
   "execution_count": null,
   "id": "f689ee56-5233-4434-ae64-c1dc2db3f226",
   "metadata": {},
   "outputs": [],
   "source": [
    "df2[df2['County']== 'Chester County']"
   ]
  },
  {
   "cell_type": "code",
   "execution_count": null,
   "id": "52245fd4-b9d2-4149-b80c-832ea53e466f",
   "metadata": {},
   "outputs": [],
   "source": [
    "#saving the variable\n",
    "df2_chester = df2[df2['County']== 'Chester County']"
   ]
  },
  {
   "cell_type": "code",
   "execution_count": null,
   "id": "e546dc74-6975-498f-96c3-c1f398d3bb25",
   "metadata": {},
   "outputs": [],
   "source": [
    "df2_chester"
   ]
  },
  {
   "cell_type": "code",
   "execution_count": null,
   "id": "e7cfab75-311a-43ae-800c-c82e96393a18",
   "metadata": {},
   "outputs": [],
   "source": [
    "df2"
   ]
  },
  {
   "cell_type": "code",
   "execution_count": null,
   "id": "12baea26-91aa-4d9f-ac69-884b56885d5d",
   "metadata": {},
   "outputs": [],
   "source": []
  }
 ],
 "metadata": {
  "kernelspec": {
   "display_name": "Python 3 (ipykernel)",
   "language": "python",
   "name": "python3"
  },
  "language_info": {
   "codemirror_mode": {
    "name": "ipython",
    "version": 3
   },
   "file_extension": ".py",
   "mimetype": "text/x-python",
   "name": "python",
   "nbconvert_exporter": "python",
   "pygments_lexer": "ipython3",
   "version": "3.10.8"
  }
 },
 "nbformat": 4,
 "nbformat_minor": 5
}
