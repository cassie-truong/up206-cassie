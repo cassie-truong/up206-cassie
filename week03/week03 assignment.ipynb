{
 "cells": [
  {
   "cell_type": "code",
   "execution_count": 75,
   "id": "d8bff236-b927-4031-8e5e-e87d05006d7e",
   "metadata": {},
   "outputs": [],
   "source": [
    "#Health Data in Philadelphia Counties"
   ]
  },
  {
   "cell_type": "code",
   "execution_count": 76,
   "id": "16028061-5d46-4801-aad1-5f0b87309d7a",
   "metadata": {},
   "outputs": [],
   "source": [
    "##This health data set consists of quality of life, fair on poor health, health insurance, diabetes, food environment index, and physical environment variables. I will review the data, trim, and create maps."
   ]
  },
  {
   "cell_type": "code",
   "execution_count": 77,
   "id": "b64c6a9a-01f8-415b-8cd0-ac9fb62f96f8",
   "metadata": {},
   "outputs": [],
   "source": [
    "###Author: Cassie Truong"
   ]
  },
  {
   "cell_type": "code",
   "execution_count": 78,
   "id": "574150f6-3078-4a9a-93a1-1965ac7e1838",
   "metadata": {},
   "outputs": [],
   "source": [
    "#generating a library\n",
    "import pandas as pd"
   ]
  },
  {
   "cell_type": "code",
   "execution_count": 79,
   "id": "0e82dbc0-9e68-4f6f-9e62-cd7e6400335e",
   "metadata": {},
   "outputs": [],
   "source": [
    "#loading the data file which includes all counties in Pennsylvania \n",
    "df = pd.read_csv('data/R13285586_SL050.csv')"
   ]
  },
  {
   "cell_type": "code",
   "execution_count": 80,
   "id": "81ffa9a0-2635-45e0-817a-0330507ffcc7",
   "metadata": {},
   "outputs": [
    {
     "data": {
      "text/html": [
       "<div>\n",
       "<style scoped>\n",
       "    .dataframe tbody tr th:only-of-type {\n",
       "        vertical-align: middle;\n",
       "    }\n",
       "\n",
       "    .dataframe tbody tr th {\n",
       "        vertical-align: top;\n",
       "    }\n",
       "\n",
       "    .dataframe thead th {\n",
       "        text-align: right;\n",
       "    }\n",
       "</style>\n",
       "<table border=\"1\" class=\"dataframe\">\n",
       "  <thead>\n",
       "    <tr style=\"text-align: right;\">\n",
       "      <th></th>\n",
       "      <th>Geo_FIPS</th>\n",
       "      <th>Geo_NAME</th>\n",
       "      <th>Geo_QNAME</th>\n",
       "      <th>Geo_NATION</th>\n",
       "      <th>Geo_STATE</th>\n",
       "      <th>Geo_COUNTY</th>\n",
       "      <th>SE_T001_001</th>\n",
       "      <th>SE_T001_002</th>\n",
       "      <th>SE_T002_001</th>\n",
       "      <th>SE_T003_001</th>\n",
       "      <th>...</th>\n",
       "      <th>SE_T013_001</th>\n",
       "      <th>SE_T016_001</th>\n",
       "      <th>SE_T016_002</th>\n",
       "      <th>SE_T016_003</th>\n",
       "      <th>SE_T016_004</th>\n",
       "      <th>SE_T016_005</th>\n",
       "      <th>SE_T016_006</th>\n",
       "      <th>SE_T016_007</th>\n",
       "      <th>SE_T016_008</th>\n",
       "      <th>SE_T016_009</th>\n",
       "    </tr>\n",
       "  </thead>\n",
       "  <tbody>\n",
       "    <tr>\n",
       "      <th>0</th>\n",
       "      <td>42017</td>\n",
       "      <td>Bucks County</td>\n",
       "      <td>Bucks County, Pennsylvania</td>\n",
       "      <td>0</td>\n",
       "      <td>42</td>\n",
       "      <td>17</td>\n",
       "      <td>3.255712</td>\n",
       "      <td>3.630721</td>\n",
       "      <td>12.354755</td>\n",
       "      <td>7.724081</td>\n",
       "      <td>...</td>\n",
       "      <td>8.8</td>\n",
       "      <td>10.1</td>\n",
       "      <td>Yes</td>\n",
       "      <td>14.941224</td>\n",
       "      <td>13.719828</td>\n",
       "      <td>1.126266</td>\n",
       "      <td>0.605957</td>\n",
       "      <td>81.965738</td>\n",
       "      <td>324560</td>\n",
       "      <td>43.4</td>\n",
       "    </tr>\n",
       "    <tr>\n",
       "      <th>1</th>\n",
       "      <td>42029</td>\n",
       "      <td>Chester County</td>\n",
       "      <td>Chester County, Pennsylvania</td>\n",
       "      <td>0</td>\n",
       "      <td>42</td>\n",
       "      <td>29</td>\n",
       "      <td>3.504023</td>\n",
       "      <td>3.983571</td>\n",
       "      <td>13.008065</td>\n",
       "      <td>6.674396</td>\n",
       "      <td>...</td>\n",
       "      <td>8.7</td>\n",
       "      <td>10.4</td>\n",
       "      <td>Yes</td>\n",
       "      <td>14.460154</td>\n",
       "      <td>12.975760</td>\n",
       "      <td>1.253213</td>\n",
       "      <td>0.910454</td>\n",
       "      <td>79.040996</td>\n",
       "      <td>265442</td>\n",
       "      <td>42.8</td>\n",
       "    </tr>\n",
       "    <tr>\n",
       "      <th>2</th>\n",
       "      <td>42045</td>\n",
       "      <td>Delaware County</td>\n",
       "      <td>Delaware County, Pennsylvania</td>\n",
       "      <td>0</td>\n",
       "      <td>42</td>\n",
       "      <td>45</td>\n",
       "      <td>3.805849</td>\n",
       "      <td>4.007199</td>\n",
       "      <td>15.294497</td>\n",
       "      <td>8.870670</td>\n",
       "      <td>...</td>\n",
       "      <td>8.2</td>\n",
       "      <td>11.9</td>\n",
       "      <td>No</td>\n",
       "      <td>17.049752</td>\n",
       "      <td>15.594348</td>\n",
       "      <td>1.330976</td>\n",
       "      <td>0.788272</td>\n",
       "      <td>73.149818</td>\n",
       "      <td>270095</td>\n",
       "      <td>46.9</td>\n",
       "    </tr>\n",
       "    <tr>\n",
       "      <th>3</th>\n",
       "      <td>42091</td>\n",
       "      <td>Montgomery County</td>\n",
       "      <td>Montgomery County, Pennsylvania</td>\n",
       "      <td>0</td>\n",
       "      <td>42</td>\n",
       "      <td>91</td>\n",
       "      <td>3.187519</td>\n",
       "      <td>3.925691</td>\n",
       "      <td>11.759540</td>\n",
       "      <td>7.392164</td>\n",
       "      <td>...</td>\n",
       "      <td>8.7</td>\n",
       "      <td>9.2</td>\n",
       "      <td>Yes</td>\n",
       "      <td>14.761928</td>\n",
       "      <td>13.465608</td>\n",
       "      <td>1.121384</td>\n",
       "      <td>0.850315</td>\n",
       "      <td>78.658525</td>\n",
       "      <td>423832</td>\n",
       "      <td>44.8</td>\n",
       "    </tr>\n",
       "    <tr>\n",
       "      <th>4</th>\n",
       "      <td>42101</td>\n",
       "      <td>Philadelphia County</td>\n",
       "      <td>Philadelphia County, Pennsylvania</td>\n",
       "      <td>0</td>\n",
       "      <td>42</td>\n",
       "      <td>101</td>\n",
       "      <td>4.636788</td>\n",
       "      <td>4.782447</td>\n",
       "      <td>21.655494</td>\n",
       "      <td>10.697246</td>\n",
       "      <td>...</td>\n",
       "      <td>6.9</td>\n",
       "      <td>11.2</td>\n",
       "      <td>No</td>\n",
       "      <td>23.432230</td>\n",
       "      <td>21.606609</td>\n",
       "      <td>2.533492</td>\n",
       "      <td>0.950918</td>\n",
       "      <td>50.913225</td>\n",
       "      <td>671083</td>\n",
       "      <td>53.7</td>\n",
       "    </tr>\n",
       "  </tbody>\n",
       "</table>\n",
       "<p>5 rows × 53 columns</p>\n",
       "</div>"
      ],
      "text/plain": [
       "   Geo_FIPS             Geo_NAME                          Geo_QNAME  \\\n",
       "0     42017         Bucks County         Bucks County, Pennsylvania   \n",
       "1     42029       Chester County       Chester County, Pennsylvania   \n",
       "2     42045      Delaware County      Delaware County, Pennsylvania   \n",
       "3     42091    Montgomery County    Montgomery County, Pennsylvania   \n",
       "4     42101  Philadelphia County  Philadelphia County, Pennsylvania   \n",
       "\n",
       "   Geo_NATION  Geo_STATE  Geo_COUNTY  SE_T001_001  SE_T001_002  SE_T002_001  \\\n",
       "0           0         42          17     3.255712     3.630721    12.354755   \n",
       "1           0         42          29     3.504023     3.983571    13.008065   \n",
       "2           0         42          45     3.805849     4.007199    15.294497   \n",
       "3           0         42          91     3.187519     3.925691    11.759540   \n",
       "4           0         42         101     4.636788     4.782447    21.655494   \n",
       "\n",
       "   SE_T003_001  ...  SE_T013_001  SE_T016_001  SE_T016_002  SE_T016_003  \\\n",
       "0     7.724081  ...          8.8         10.1          Yes    14.941224   \n",
       "1     6.674396  ...          8.7         10.4          Yes    14.460154   \n",
       "2     8.870670  ...          8.2         11.9           No    17.049752   \n",
       "3     7.392164  ...          8.7          9.2          Yes    14.761928   \n",
       "4    10.697246  ...          6.9         11.2           No    23.432230   \n",
       "\n",
       "   SE_T016_004  SE_T016_005  SE_T016_006  SE_T016_007  SE_T016_008  \\\n",
       "0    13.719828     1.126266     0.605957    81.965738       324560   \n",
       "1    12.975760     1.253213     0.910454    79.040996       265442   \n",
       "2    15.594348     1.330976     0.788272    73.149818       270095   \n",
       "3    13.465608     1.121384     0.850315    78.658525       423832   \n",
       "4    21.606609     2.533492     0.950918    50.913225       671083   \n",
       "\n",
       "   SE_T016_009  \n",
       "0         43.4  \n",
       "1         42.8  \n",
       "2         46.9  \n",
       "3         44.8  \n",
       "4         53.7  \n",
       "\n",
       "[5 rows x 53 columns]"
      ]
     },
     "execution_count": 80,
     "metadata": {},
     "output_type": "execute_result"
    }
   ],
   "source": [
    "#generating a sample of the data\n",
    "df. head()"
   ]
  },
  {
   "cell_type": "code",
   "execution_count": 81,
   "id": "fefb329d-037e-4e9c-af45-02ba8acda60d",
   "metadata": {},
   "outputs": [
    {
     "name": "stdout",
     "output_type": "stream",
     "text": [
      "<class 'pandas.core.frame.DataFrame'>\n",
      "RangeIndex: 5 entries, 0 to 4\n",
      "Data columns (total 53 columns):\n",
      " #   Column        Non-Null Count  Dtype  \n",
      "---  ------        --------------  -----  \n",
      " 0   Geo_FIPS      5 non-null      int64  \n",
      " 1   Geo_NAME      5 non-null      object \n",
      " 2   Geo_QNAME     5 non-null      object \n",
      " 3   Geo_NATION    5 non-null      int64  \n",
      " 4   Geo_STATE     5 non-null      int64  \n",
      " 5   Geo_COUNTY    5 non-null      int64  \n",
      " 6   SE_T001_001   5 non-null      float64\n",
      " 7   SE_T001_002   5 non-null      float64\n",
      " 8   SE_T002_001   5 non-null      float64\n",
      " 9   SE_T003_001   5 non-null      float64\n",
      " 10  SE_T004_001   5 non-null      int64  \n",
      " 11  SE_T004_002   5 non-null      int64  \n",
      " 12  SE_T004_003   5 non-null      int64  \n",
      " 13  SE_NV003_001  5 non-null      float64\n",
      " 14  SE_NV003_002  5 non-null      float64\n",
      " 15  SE_NV003_003  5 non-null      float64\n",
      " 16  SE_T006_001   5 non-null      float64\n",
      " 17  SE_T006_003   5 non-null      float64\n",
      " 18  SE_NV005_001  5 non-null      int64  \n",
      " 19  SE_NV005_003  5 non-null      int64  \n",
      " 20  SE_T007_001   5 non-null      int64  \n",
      " 21  SE_T007_002   5 non-null      float64\n",
      " 22  SE_T008_002   5 non-null      int64  \n",
      " 23  SE_T008_003   5 non-null      int64  \n",
      " 24  SE_T008_004   5 non-null      int64  \n",
      " 25  SE_NV006_002  5 non-null      float64\n",
      " 26  SE_NV006_003  5 non-null      float64\n",
      " 27  SE_NV006_004  5 non-null      float64\n",
      " 28  SE_T014_001   5 non-null      int64  \n",
      " 29  SE_NV009_001  5 non-null      float64\n",
      " 30  SE_T009_001   5 non-null      float64\n",
      " 31  SE_NV007_001  0 non-null      float64\n",
      " 32  SE_T010_002   5 non-null      int64  \n",
      " 33  SE_T010_003   0 non-null      float64\n",
      " 34  SE_NV008_002  5 non-null      float64\n",
      " 35  SE_NV008_003  0 non-null      float64\n",
      " 36  SE_T011_001   5 non-null      float64\n",
      " 37  SE_T011_002   5 non-null      float64\n",
      " 38  SE_T012_001   5 non-null      float64\n",
      " 39  SE_T012_002   5 non-null      float64\n",
      " 40  SE_T012_003   5 non-null      float64\n",
      " 41  SE_T012_004   5 non-null      float64\n",
      " 42  SE_T012_005   5 non-null      float64\n",
      " 43  SE_T013_001   5 non-null      float64\n",
      " 44  SE_T016_001   5 non-null      float64\n",
      " 45  SE_T016_002   5 non-null      object \n",
      " 46  SE_T016_003   5 non-null      float64\n",
      " 47  SE_T016_004   5 non-null      float64\n",
      " 48  SE_T016_005   5 non-null      float64\n",
      " 49  SE_T016_006   5 non-null      float64\n",
      " 50  SE_T016_007   5 non-null      float64\n",
      " 51  SE_T016_008   5 non-null      int64  \n",
      " 52  SE_T016_009   5 non-null      float64\n",
      "dtypes: float64(34), int64(16), object(3)\n",
      "memory usage: 2.2+ KB\n"
     ]
    }
   ],
   "source": [
    "#looking at the types of data that are in the set\n",
    "df.info(verbose=True, show_counts=True)"
   ]
  },
  {
   "cell_type": "code",
   "execution_count": 82,
   "id": "0dc149f8-9abd-40f0-ad2a-f6d701be8c57",
   "metadata": {},
   "outputs": [],
   "source": [
    "#From the data set above, I'm going to reimport the following from an integer to a string: FIPS, STATE, COUNTY"
   ]
  },
  {
   "cell_type": "code",
   "execution_count": 83,
   "id": "fefde4be-f65d-477a-aa6f-7fd5e0c26df3",
   "metadata": {},
   "outputs": [],
   "source": [
    "#reimporting data as a string\n",
    "df = pd.read_csv(\n",
    "    'data/R13285586_SL050.csv',\n",
    "    dtype=\n",
    "    {\n",
    "        'Geo_FIPS':str,\n",
    "        'Geo_STATE':str,\n",
    "        'Geo_COUNTY':str,\n",
    "    }\n",
    ")"
   ]
  },
  {
   "cell_type": "code",
   "execution_count": 84,
   "id": "dcc403e8-2673-422a-8e7a-55ac8e3f068b",
   "metadata": {},
   "outputs": [
    {
     "name": "stdout",
     "output_type": "stream",
     "text": [
      "<class 'pandas.core.frame.DataFrame'>\n",
      "RangeIndex: 5 entries, 0 to 4\n",
      "Data columns (total 53 columns):\n",
      " #   Column        Non-Null Count  Dtype  \n",
      "---  ------        --------------  -----  \n",
      " 0   Geo_FIPS      5 non-null      object \n",
      " 1   Geo_NAME      5 non-null      object \n",
      " 2   Geo_QNAME     5 non-null      object \n",
      " 3   Geo_NATION    5 non-null      int64  \n",
      " 4   Geo_STATE     5 non-null      object \n",
      " 5   Geo_COUNTY    5 non-null      object \n",
      " 6   SE_T001_001   5 non-null      float64\n",
      " 7   SE_T001_002   5 non-null      float64\n",
      " 8   SE_T002_001   5 non-null      float64\n",
      " 9   SE_T003_001   5 non-null      float64\n",
      " 10  SE_T004_001   5 non-null      int64  \n",
      " 11  SE_T004_002   5 non-null      int64  \n",
      " 12  SE_T004_003   5 non-null      int64  \n",
      " 13  SE_NV003_001  5 non-null      float64\n",
      " 14  SE_NV003_002  5 non-null      float64\n",
      " 15  SE_NV003_003  5 non-null      float64\n",
      " 16  SE_T006_001   5 non-null      float64\n",
      " 17  SE_T006_003   5 non-null      float64\n",
      " 18  SE_NV005_001  5 non-null      int64  \n",
      " 19  SE_NV005_003  5 non-null      int64  \n",
      " 20  SE_T007_001   5 non-null      int64  \n",
      " 21  SE_T007_002   5 non-null      float64\n",
      " 22  SE_T008_002   5 non-null      int64  \n",
      " 23  SE_T008_003   5 non-null      int64  \n",
      " 24  SE_T008_004   5 non-null      int64  \n",
      " 25  SE_NV006_002  5 non-null      float64\n",
      " 26  SE_NV006_003  5 non-null      float64\n",
      " 27  SE_NV006_004  5 non-null      float64\n",
      " 28  SE_T014_001   5 non-null      int64  \n",
      " 29  SE_NV009_001  5 non-null      float64\n",
      " 30  SE_T009_001   5 non-null      float64\n",
      " 31  SE_NV007_001  0 non-null      float64\n",
      " 32  SE_T010_002   5 non-null      int64  \n",
      " 33  SE_T010_003   0 non-null      float64\n",
      " 34  SE_NV008_002  5 non-null      float64\n",
      " 35  SE_NV008_003  0 non-null      float64\n",
      " 36  SE_T011_001   5 non-null      float64\n",
      " 37  SE_T011_002   5 non-null      float64\n",
      " 38  SE_T012_001   5 non-null      float64\n",
      " 39  SE_T012_002   5 non-null      float64\n",
      " 40  SE_T012_003   5 non-null      float64\n",
      " 41  SE_T012_004   5 non-null      float64\n",
      " 42  SE_T012_005   5 non-null      float64\n",
      " 43  SE_T013_001   5 non-null      float64\n",
      " 44  SE_T016_001   5 non-null      float64\n",
      " 45  SE_T016_002   5 non-null      object \n",
      " 46  SE_T016_003   5 non-null      float64\n",
      " 47  SE_T016_004   5 non-null      float64\n",
      " 48  SE_T016_005   5 non-null      float64\n",
      " 49  SE_T016_006   5 non-null      float64\n",
      " 50  SE_T016_007   5 non-null      float64\n",
      " 51  SE_T016_008   5 non-null      int64  \n",
      " 52  SE_T016_009   5 non-null      float64\n",
      "dtypes: float64(34), int64(13), object(6)\n",
      "memory usage: 2.2+ KB\n"
     ]
    }
   ],
   "source": [
    "#checking if the data's been converted\n",
    "df.info(verbose=True, show_counts=True)"
   ]
  },
  {
   "cell_type": "code",
   "execution_count": 85,
   "id": "44075380-71fc-4855-9150-feb0988bc58a",
   "metadata": {},
   "outputs": [
    {
     "data": {
      "text/html": [
       "<div>\n",
       "<style scoped>\n",
       "    .dataframe tbody tr th:only-of-type {\n",
       "        vertical-align: middle;\n",
       "    }\n",
       "\n",
       "    .dataframe tbody tr th {\n",
       "        vertical-align: top;\n",
       "    }\n",
       "\n",
       "    .dataframe thead th {\n",
       "        text-align: right;\n",
       "    }\n",
       "</style>\n",
       "<table border=\"1\" class=\"dataframe\">\n",
       "  <thead>\n",
       "    <tr style=\"text-align: right;\">\n",
       "      <th></th>\n",
       "      <th>Geo_FIPS</th>\n",
       "      <th>Geo_NAME</th>\n",
       "      <th>Geo_QNAME</th>\n",
       "      <th>Geo_NATION</th>\n",
       "      <th>Geo_STATE</th>\n",
       "      <th>Geo_COUNTY</th>\n",
       "      <th>SE_T001_001</th>\n",
       "      <th>SE_T001_002</th>\n",
       "      <th>SE_T002_001</th>\n",
       "      <th>SE_T003_001</th>\n",
       "      <th>...</th>\n",
       "      <th>SE_T013_001</th>\n",
       "      <th>SE_T016_001</th>\n",
       "      <th>SE_T016_002</th>\n",
       "      <th>SE_T016_003</th>\n",
       "      <th>SE_T016_004</th>\n",
       "      <th>SE_T016_005</th>\n",
       "      <th>SE_T016_006</th>\n",
       "      <th>SE_T016_007</th>\n",
       "      <th>SE_T016_008</th>\n",
       "      <th>SE_T016_009</th>\n",
       "    </tr>\n",
       "  </thead>\n",
       "  <tbody>\n",
       "    <tr>\n",
       "      <th>2</th>\n",
       "      <td>42045</td>\n",
       "      <td>Delaware County</td>\n",
       "      <td>Delaware County, Pennsylvania</td>\n",
       "      <td>0</td>\n",
       "      <td>42</td>\n",
       "      <td>045</td>\n",
       "      <td>3.805849</td>\n",
       "      <td>4.007199</td>\n",
       "      <td>15.294497</td>\n",
       "      <td>8.870670</td>\n",
       "      <td>...</td>\n",
       "      <td>8.2</td>\n",
       "      <td>11.9</td>\n",
       "      <td>No</td>\n",
       "      <td>17.049752</td>\n",
       "      <td>15.594348</td>\n",
       "      <td>1.330976</td>\n",
       "      <td>0.788272</td>\n",
       "      <td>73.149818</td>\n",
       "      <td>270095</td>\n",
       "      <td>46.9</td>\n",
       "    </tr>\n",
       "    <tr>\n",
       "      <th>3</th>\n",
       "      <td>42091</td>\n",
       "      <td>Montgomery County</td>\n",
       "      <td>Montgomery County, Pennsylvania</td>\n",
       "      <td>0</td>\n",
       "      <td>42</td>\n",
       "      <td>091</td>\n",
       "      <td>3.187519</td>\n",
       "      <td>3.925691</td>\n",
       "      <td>11.759540</td>\n",
       "      <td>7.392164</td>\n",
       "      <td>...</td>\n",
       "      <td>8.7</td>\n",
       "      <td>9.2</td>\n",
       "      <td>Yes</td>\n",
       "      <td>14.761928</td>\n",
       "      <td>13.465608</td>\n",
       "      <td>1.121384</td>\n",
       "      <td>0.850315</td>\n",
       "      <td>78.658525</td>\n",
       "      <td>423832</td>\n",
       "      <td>44.8</td>\n",
       "    </tr>\n",
       "    <tr>\n",
       "      <th>4</th>\n",
       "      <td>42101</td>\n",
       "      <td>Philadelphia County</td>\n",
       "      <td>Philadelphia County, Pennsylvania</td>\n",
       "      <td>0</td>\n",
       "      <td>42</td>\n",
       "      <td>101</td>\n",
       "      <td>4.636788</td>\n",
       "      <td>4.782447</td>\n",
       "      <td>21.655494</td>\n",
       "      <td>10.697246</td>\n",
       "      <td>...</td>\n",
       "      <td>6.9</td>\n",
       "      <td>11.2</td>\n",
       "      <td>No</td>\n",
       "      <td>23.432230</td>\n",
       "      <td>21.606609</td>\n",
       "      <td>2.533492</td>\n",
       "      <td>0.950918</td>\n",
       "      <td>50.913225</td>\n",
       "      <td>671083</td>\n",
       "      <td>53.7</td>\n",
       "    </tr>\n",
       "    <tr>\n",
       "      <th>1</th>\n",
       "      <td>42029</td>\n",
       "      <td>Chester County</td>\n",
       "      <td>Chester County, Pennsylvania</td>\n",
       "      <td>0</td>\n",
       "      <td>42</td>\n",
       "      <td>029</td>\n",
       "      <td>3.504023</td>\n",
       "      <td>3.983571</td>\n",
       "      <td>13.008065</td>\n",
       "      <td>6.674396</td>\n",
       "      <td>...</td>\n",
       "      <td>8.7</td>\n",
       "      <td>10.4</td>\n",
       "      <td>Yes</td>\n",
       "      <td>14.460154</td>\n",
       "      <td>12.975760</td>\n",
       "      <td>1.253213</td>\n",
       "      <td>0.910454</td>\n",
       "      <td>79.040996</td>\n",
       "      <td>265442</td>\n",
       "      <td>42.8</td>\n",
       "    </tr>\n",
       "    <tr>\n",
       "      <th>0</th>\n",
       "      <td>42017</td>\n",
       "      <td>Bucks County</td>\n",
       "      <td>Bucks County, Pennsylvania</td>\n",
       "      <td>0</td>\n",
       "      <td>42</td>\n",
       "      <td>017</td>\n",
       "      <td>3.255712</td>\n",
       "      <td>3.630721</td>\n",
       "      <td>12.354755</td>\n",
       "      <td>7.724081</td>\n",
       "      <td>...</td>\n",
       "      <td>8.8</td>\n",
       "      <td>10.1</td>\n",
       "      <td>Yes</td>\n",
       "      <td>14.941224</td>\n",
       "      <td>13.719828</td>\n",
       "      <td>1.126266</td>\n",
       "      <td>0.605957</td>\n",
       "      <td>81.965738</td>\n",
       "      <td>324560</td>\n",
       "      <td>43.4</td>\n",
       "    </tr>\n",
       "  </tbody>\n",
       "</table>\n",
       "<p>5 rows × 53 columns</p>\n",
       "</div>"
      ],
      "text/plain": [
       "  Geo_FIPS             Geo_NAME                          Geo_QNAME  \\\n",
       "2    42045      Delaware County      Delaware County, Pennsylvania   \n",
       "3    42091    Montgomery County    Montgomery County, Pennsylvania   \n",
       "4    42101  Philadelphia County  Philadelphia County, Pennsylvania   \n",
       "1    42029       Chester County       Chester County, Pennsylvania   \n",
       "0    42017         Bucks County         Bucks County, Pennsylvania   \n",
       "\n",
       "   Geo_NATION Geo_STATE Geo_COUNTY  SE_T001_001  SE_T001_002  SE_T002_001  \\\n",
       "2           0        42        045     3.805849     4.007199    15.294497   \n",
       "3           0        42        091     3.187519     3.925691    11.759540   \n",
       "4           0        42        101     4.636788     4.782447    21.655494   \n",
       "1           0        42        029     3.504023     3.983571    13.008065   \n",
       "0           0        42        017     3.255712     3.630721    12.354755   \n",
       "\n",
       "   SE_T003_001  ...  SE_T013_001  SE_T016_001  SE_T016_002  SE_T016_003  \\\n",
       "2     8.870670  ...          8.2         11.9           No    17.049752   \n",
       "3     7.392164  ...          8.7          9.2          Yes    14.761928   \n",
       "4    10.697246  ...          6.9         11.2           No    23.432230   \n",
       "1     6.674396  ...          8.7         10.4          Yes    14.460154   \n",
       "0     7.724081  ...          8.8         10.1          Yes    14.941224   \n",
       "\n",
       "   SE_T016_004  SE_T016_005  SE_T016_006  SE_T016_007  SE_T016_008  \\\n",
       "2    15.594348     1.330976     0.788272    73.149818       270095   \n",
       "3    13.465608     1.121384     0.850315    78.658525       423832   \n",
       "4    21.606609     2.533492     0.950918    50.913225       671083   \n",
       "1    12.975760     1.253213     0.910454    79.040996       265442   \n",
       "0    13.719828     1.126266     0.605957    81.965738       324560   \n",
       "\n",
       "   SE_T016_009  \n",
       "2         46.9  \n",
       "3         44.8  \n",
       "4         53.7  \n",
       "1         42.8  \n",
       "0         43.4  \n",
       "\n",
       "[5 rows x 53 columns]"
      ]
     },
     "execution_count": 85,
     "metadata": {},
     "output_type": "execute_result"
    }
   ],
   "source": [
    "df.sample(5)"
   ]
  },
  {
   "cell_type": "code",
   "execution_count": 86,
   "id": "7e7f003f-0dd3-41f3-881a-86a8797621c9",
   "metadata": {},
   "outputs": [
    {
     "data": {
      "text/plain": [
       "['SE_NV007_001', 'SE_T010_003', 'SE_NV008_003']"
      ]
     },
     "execution_count": 86,
     "metadata": {},
     "output_type": "execute_result"
    }
   ],
   "source": [
    "#reviewing which column has no code\n",
    "df.columns[df.isna().all()].tolist()"
   ]
  },
  {
   "cell_type": "code",
   "execution_count": 87,
   "id": "51080be4-9cc4-4dfa-9dff-d609deed3aff",
   "metadata": {},
   "outputs": [],
   "source": [
    "#dropping the columns with no code\n",
    "df = df.dropna(axis=1,how=\"all\")"
   ]
  },
  {
   "cell_type": "code",
   "execution_count": 88,
   "id": "f3b52c90-8f82-4dc0-881b-d0ae29615835",
   "metadata": {},
   "outputs": [
    {
     "name": "stdout",
     "output_type": "stream",
     "text": [
      "<class 'pandas.core.frame.DataFrame'>\n",
      "RangeIndex: 5 entries, 0 to 4\n",
      "Data columns (total 50 columns):\n",
      " #   Column        Non-Null Count  Dtype  \n",
      "---  ------        --------------  -----  \n",
      " 0   Geo_FIPS      5 non-null      object \n",
      " 1   Geo_NAME      5 non-null      object \n",
      " 2   Geo_QNAME     5 non-null      object \n",
      " 3   Geo_NATION    5 non-null      int64  \n",
      " 4   Geo_STATE     5 non-null      object \n",
      " 5   Geo_COUNTY    5 non-null      object \n",
      " 6   SE_T001_001   5 non-null      float64\n",
      " 7   SE_T001_002   5 non-null      float64\n",
      " 8   SE_T002_001   5 non-null      float64\n",
      " 9   SE_T003_001   5 non-null      float64\n",
      " 10  SE_T004_001   5 non-null      int64  \n",
      " 11  SE_T004_002   5 non-null      int64  \n",
      " 12  SE_T004_003   5 non-null      int64  \n",
      " 13  SE_NV003_001  5 non-null      float64\n",
      " 14  SE_NV003_002  5 non-null      float64\n",
      " 15  SE_NV003_003  5 non-null      float64\n",
      " 16  SE_T006_001   5 non-null      float64\n",
      " 17  SE_T006_003   5 non-null      float64\n",
      " 18  SE_NV005_001  5 non-null      int64  \n",
      " 19  SE_NV005_003  5 non-null      int64  \n",
      " 20  SE_T007_001   5 non-null      int64  \n",
      " 21  SE_T007_002   5 non-null      float64\n",
      " 22  SE_T008_002   5 non-null      int64  \n",
      " 23  SE_T008_003   5 non-null      int64  \n",
      " 24  SE_T008_004   5 non-null      int64  \n",
      " 25  SE_NV006_002  5 non-null      float64\n",
      " 26  SE_NV006_003  5 non-null      float64\n",
      " 27  SE_NV006_004  5 non-null      float64\n",
      " 28  SE_T014_001   5 non-null      int64  \n",
      " 29  SE_NV009_001  5 non-null      float64\n",
      " 30  SE_T009_001   5 non-null      float64\n",
      " 31  SE_T010_002   5 non-null      int64  \n",
      " 32  SE_NV008_002  5 non-null      float64\n",
      " 33  SE_T011_001   5 non-null      float64\n",
      " 34  SE_T011_002   5 non-null      float64\n",
      " 35  SE_T012_001   5 non-null      float64\n",
      " 36  SE_T012_002   5 non-null      float64\n",
      " 37  SE_T012_003   5 non-null      float64\n",
      " 38  SE_T012_004   5 non-null      float64\n",
      " 39  SE_T012_005   5 non-null      float64\n",
      " 40  SE_T013_001   5 non-null      float64\n",
      " 41  SE_T016_001   5 non-null      float64\n",
      " 42  SE_T016_002   5 non-null      object \n",
      " 43  SE_T016_003   5 non-null      float64\n",
      " 44  SE_T016_004   5 non-null      float64\n",
      " 45  SE_T016_005   5 non-null      float64\n",
      " 46  SE_T016_006   5 non-null      float64\n",
      " 47  SE_T016_007   5 non-null      float64\n",
      " 48  SE_T016_008   5 non-null      int64  \n",
      " 49  SE_T016_009   5 non-null      float64\n",
      "dtypes: float64(31), int64(13), object(6)\n",
      "memory usage: 2.1+ KB\n"
     ]
    }
   ],
   "source": [
    "#confirming the column has been dropped\n",
    "df.info()"
   ]
  },
  {
   "cell_type": "code",
   "execution_count": 89,
   "id": "8e972721-62a2-4afe-b507-00a03164305e",
   "metadata": {},
   "outputs": [
    {
     "ename": "SyntaxError",
     "evalue": "illegal target for annotation (3536904036.py, line 2)",
     "output_type": "error",
     "traceback": [
      "\u001b[0;36m  Cell \u001b[0;32mIn[89], line 2\u001b[0;36m\u001b[0m\n\u001b[0;31m    - FIPS: FIPS\u001b[0m\n\u001b[0m    ^\u001b[0m\n\u001b[0;31mSyntaxError\u001b[0m\u001b[0;31m:\u001b[0m illegal target for annotation\n"
     ]
    }
   ],
   "source": [
    "#refining my columns more by keeping the below:\n",
    "- FIPS: FIPS\n",
    "- NAME: Name of Area\n",
    "- T013_001: Food Environment Index\n",
    "- T001_001: Physically Unhealthy Days per Month (Persons 18 Years and Over)\n",
    "- T001_002: Mentally Unhealthy Days per Month (Persons 18 Years and Over)\n",
    "- T016_001: Air Pollution Particulate Matter Average Daily Pm2.5"
   ]
  },
  {
   "cell_type": "code",
   "execution_count": 90,
   "id": "c9527af9-cb3b-4288-af3a-76dde947ab8b",
   "metadata": {},
   "outputs": [],
   "source": [
    "#creating a new variable to keep the aforementioned columns\n",
    "columns_to_keep = ['Geo_FIPS',\n",
    "                   'Geo_QNAME',\n",
    "                   'SE_T013_001',\n",
    "                   'SE_T001_001',\n",
    "                   'SE_T001_002',\n",
    "                   'SE_T016_001']"
   ]
  },
  {
   "cell_type": "code",
   "execution_count": 91,
   "id": "c0dfdfcf-85a2-4460-a27f-1af5ae75f43f",
   "metadata": {},
   "outputs": [],
   "source": [
    "df2 = df[columns_to_keep]"
   ]
  },
  {
   "cell_type": "code",
   "execution_count": 92,
   "id": "499b165f-5999-48b8-8d3b-598c7155db05",
   "metadata": {},
   "outputs": [
    {
     "data": {
      "text/html": [
       "<div>\n",
       "<style scoped>\n",
       "    .dataframe tbody tr th:only-of-type {\n",
       "        vertical-align: middle;\n",
       "    }\n",
       "\n",
       "    .dataframe tbody tr th {\n",
       "        vertical-align: top;\n",
       "    }\n",
       "\n",
       "    .dataframe thead th {\n",
       "        text-align: right;\n",
       "    }\n",
       "</style>\n",
       "<table border=\"1\" class=\"dataframe\">\n",
       "  <thead>\n",
       "    <tr style=\"text-align: right;\">\n",
       "      <th></th>\n",
       "      <th>Geo_FIPS</th>\n",
       "      <th>Geo_QNAME</th>\n",
       "      <th>SE_T013_001</th>\n",
       "      <th>SE_T001_001</th>\n",
       "      <th>SE_T001_002</th>\n",
       "      <th>SE_T016_001</th>\n",
       "    </tr>\n",
       "  </thead>\n",
       "  <tbody>\n",
       "    <tr>\n",
       "      <th>0</th>\n",
       "      <td>42017</td>\n",
       "      <td>Bucks County, Pennsylvania</td>\n",
       "      <td>8.8</td>\n",
       "      <td>3.255712</td>\n",
       "      <td>3.630721</td>\n",
       "      <td>10.1</td>\n",
       "    </tr>\n",
       "    <tr>\n",
       "      <th>2</th>\n",
       "      <td>42045</td>\n",
       "      <td>Delaware County, Pennsylvania</td>\n",
       "      <td>8.2</td>\n",
       "      <td>3.805849</td>\n",
       "      <td>4.007199</td>\n",
       "      <td>11.9</td>\n",
       "    </tr>\n",
       "    <tr>\n",
       "      <th>4</th>\n",
       "      <td>42101</td>\n",
       "      <td>Philadelphia County, Pennsylvania</td>\n",
       "      <td>6.9</td>\n",
       "      <td>4.636788</td>\n",
       "      <td>4.782447</td>\n",
       "      <td>11.2</td>\n",
       "    </tr>\n",
       "    <tr>\n",
       "      <th>3</th>\n",
       "      <td>42091</td>\n",
       "      <td>Montgomery County, Pennsylvania</td>\n",
       "      <td>8.7</td>\n",
       "      <td>3.187519</td>\n",
       "      <td>3.925691</td>\n",
       "      <td>9.2</td>\n",
       "    </tr>\n",
       "    <tr>\n",
       "      <th>1</th>\n",
       "      <td>42029</td>\n",
       "      <td>Chester County, Pennsylvania</td>\n",
       "      <td>8.7</td>\n",
       "      <td>3.504023</td>\n",
       "      <td>3.983571</td>\n",
       "      <td>10.4</td>\n",
       "    </tr>\n",
       "  </tbody>\n",
       "</table>\n",
       "</div>"
      ],
      "text/plain": [
       "  Geo_FIPS                          Geo_QNAME  SE_T013_001  SE_T001_001  \\\n",
       "0    42017         Bucks County, Pennsylvania          8.8     3.255712   \n",
       "2    42045      Delaware County, Pennsylvania          8.2     3.805849   \n",
       "4    42101  Philadelphia County, Pennsylvania          6.9     4.636788   \n",
       "3    42091    Montgomery County, Pennsylvania          8.7     3.187519   \n",
       "1    42029       Chester County, Pennsylvania          8.7     3.504023   \n",
       "\n",
       "   SE_T001_002  SE_T016_001  \n",
       "0     3.630721         10.1  \n",
       "2     4.007199         11.9  \n",
       "4     4.782447         11.2  \n",
       "3     3.925691          9.2  \n",
       "1     3.983571         10.4  "
      ]
     },
     "execution_count": 92,
     "metadata": {},
     "output_type": "execute_result"
    }
   ],
   "source": [
    "#confirming data\n",
    "df2.sample(5)"
   ]
  },
  {
   "cell_type": "code",
   "execution_count": 93,
   "id": "a6070e73-2a16-4dcc-b861-ed42bd4d97f1",
   "metadata": {},
   "outputs": [
    {
     "data": {
      "text/plain": [
       "['Geo_FIPS',\n",
       " 'Geo_QNAME',\n",
       " 'SE_T013_001',\n",
       " 'SE_T001_001',\n",
       " 'SE_T001_002',\n",
       " 'SE_T016_001']"
      ]
     },
     "execution_count": 93,
     "metadata": {},
     "output_type": "execute_result"
    }
   ],
   "source": [
    "#renaming columns by first creating a list of current naming conventions\n",
    "columns = list(df2)\n",
    "columns"
   ]
  },
  {
   "cell_type": "code",
   "execution_count": 94,
   "id": "5e9ece53-5001-475a-ab39-1a60fb295973",
   "metadata": {},
   "outputs": [],
   "source": [
    "#keeping the same sequence, now renaming the columns\n",
    "df2.columns = ['FIPS',\n",
    "               'County',\n",
    "               'Food Env Index',\n",
    "               'Physically Unhealthy Days/Month',\n",
    "               'Mentally Unhealthy Days/Month',\n",
    "               'Air Pollution Particulate Matter Avg. Daily PM 2.5'\n",
    "              ]"
   ]
  },
  {
   "cell_type": "code",
   "execution_count": 95,
   "id": "fd0e7521-1b41-448d-89ef-b7a2c90fb131",
   "metadata": {},
   "outputs": [
    {
     "data": {
      "text/html": [
       "<div>\n",
       "<style scoped>\n",
       "    .dataframe tbody tr th:only-of-type {\n",
       "        vertical-align: middle;\n",
       "    }\n",
       "\n",
       "    .dataframe tbody tr th {\n",
       "        vertical-align: top;\n",
       "    }\n",
       "\n",
       "    .dataframe thead th {\n",
       "        text-align: right;\n",
       "    }\n",
       "</style>\n",
       "<table border=\"1\" class=\"dataframe\">\n",
       "  <thead>\n",
       "    <tr style=\"text-align: right;\">\n",
       "      <th></th>\n",
       "      <th>FIPS</th>\n",
       "      <th>County</th>\n",
       "      <th>Food Env Index</th>\n",
       "      <th>Physically Unhealthy Days/Month</th>\n",
       "      <th>Mentally Unhealthy Days/Month</th>\n",
       "      <th>Air Pollution Particulate Matter Avg. Daily PM 2.5</th>\n",
       "    </tr>\n",
       "  </thead>\n",
       "  <tbody>\n",
       "    <tr>\n",
       "      <th>4</th>\n",
       "      <td>42101</td>\n",
       "      <td>Philadelphia County, Pennsylvania</td>\n",
       "      <td>6.9</td>\n",
       "      <td>4.636788</td>\n",
       "      <td>4.782447</td>\n",
       "      <td>11.2</td>\n",
       "    </tr>\n",
       "  </tbody>\n",
       "</table>\n",
       "</div>"
      ],
      "text/plain": [
       "    FIPS                             County  Food Env Index  \\\n",
       "4  42101  Philadelphia County, Pennsylvania             6.9   \n",
       "\n",
       "   Physically Unhealthy Days/Month  Mentally Unhealthy Days/Month  \\\n",
       "4                         4.636788                       4.782447   \n",
       "\n",
       "   Air Pollution Particulate Matter Avg. Daily PM 2.5  \n",
       "4                                               11.2   "
      ]
     },
     "execution_count": 95,
     "metadata": {},
     "output_type": "execute_result"
    }
   ],
   "source": [
    "#confirming renamed columns\n",
    "df2.sample()"
   ]
  },
  {
   "cell_type": "code",
   "execution_count": 96,
   "id": "7224a32b-8348-4be2-8168-600627bc44db",
   "metadata": {},
   "outputs": [
    {
     "data": {
      "text/html": [
       "<div>\n",
       "<style scoped>\n",
       "    .dataframe tbody tr th:only-of-type {\n",
       "        vertical-align: middle;\n",
       "    }\n",
       "\n",
       "    .dataframe tbody tr th {\n",
       "        vertical-align: top;\n",
       "    }\n",
       "\n",
       "    .dataframe thead th {\n",
       "        text-align: right;\n",
       "    }\n",
       "</style>\n",
       "<table border=\"1\" class=\"dataframe\">\n",
       "  <thead>\n",
       "    <tr style=\"text-align: right;\">\n",
       "      <th></th>\n",
       "      <th>FIPS</th>\n",
       "      <th>County</th>\n",
       "      <th>Food Env Index</th>\n",
       "      <th>Physically Unhealthy Days/Month</th>\n",
       "      <th>Mentally Unhealthy Days/Month</th>\n",
       "      <th>Air Pollution Particulate Matter Avg. Daily PM 2.5</th>\n",
       "    </tr>\n",
       "  </thead>\n",
       "  <tbody>\n",
       "    <tr>\n",
       "      <th>3</th>\n",
       "      <td>42091</td>\n",
       "      <td>Montgomery County, Pennsylvania</td>\n",
       "      <td>8.7</td>\n",
       "      <td>3.187519</td>\n",
       "      <td>3.925691</td>\n",
       "      <td>9.2</td>\n",
       "    </tr>\n",
       "    <tr>\n",
       "      <th>4</th>\n",
       "      <td>42101</td>\n",
       "      <td>Philadelphia County, Pennsylvania</td>\n",
       "      <td>6.9</td>\n",
       "      <td>4.636788</td>\n",
       "      <td>4.782447</td>\n",
       "      <td>11.2</td>\n",
       "    </tr>\n",
       "    <tr>\n",
       "      <th>1</th>\n",
       "      <td>42029</td>\n",
       "      <td>Chester County, Pennsylvania</td>\n",
       "      <td>8.7</td>\n",
       "      <td>3.504023</td>\n",
       "      <td>3.983571</td>\n",
       "      <td>10.4</td>\n",
       "    </tr>\n",
       "    <tr>\n",
       "      <th>0</th>\n",
       "      <td>42017</td>\n",
       "      <td>Bucks County, Pennsylvania</td>\n",
       "      <td>8.8</td>\n",
       "      <td>3.255712</td>\n",
       "      <td>3.630721</td>\n",
       "      <td>10.1</td>\n",
       "    </tr>\n",
       "    <tr>\n",
       "      <th>2</th>\n",
       "      <td>42045</td>\n",
       "      <td>Delaware County, Pennsylvania</td>\n",
       "      <td>8.2</td>\n",
       "      <td>3.805849</td>\n",
       "      <td>4.007199</td>\n",
       "      <td>11.9</td>\n",
       "    </tr>\n",
       "  </tbody>\n",
       "</table>\n",
       "</div>"
      ],
      "text/plain": [
       "    FIPS                             County  Food Env Index  \\\n",
       "3  42091    Montgomery County, Pennsylvania             8.7   \n",
       "4  42101  Philadelphia County, Pennsylvania             6.9   \n",
       "1  42029       Chester County, Pennsylvania             8.7   \n",
       "0  42017         Bucks County, Pennsylvania             8.8   \n",
       "2  42045      Delaware County, Pennsylvania             8.2   \n",
       "\n",
       "   Physically Unhealthy Days/Month  Mentally Unhealthy Days/Month  \\\n",
       "3                         3.187519                       3.925691   \n",
       "4                         4.636788                       4.782447   \n",
       "1                         3.504023                       3.983571   \n",
       "0                         3.255712                       3.630721   \n",
       "2                         3.805849                       4.007199   \n",
       "\n",
       "   Air Pollution Particulate Matter Avg. Daily PM 2.5  \n",
       "3                                                9.2   \n",
       "4                                               11.2   \n",
       "1                                               10.4   \n",
       "0                                               10.1   \n",
       "2                                               11.9   "
      ]
     },
     "execution_count": 96,
     "metadata": {},
     "output_type": "execute_result"
    }
   ],
   "source": [
    "df2.sample(5)"
   ]
  },
  {
   "cell_type": "code",
   "execution_count": 97,
   "id": "7bc94c98-d2b6-420c-949b-420985364b9b",
   "metadata": {},
   "outputs": [
    {
     "data": {
      "text/plain": [
       "count    5.000000\n",
       "mean     8.260000\n",
       "std      0.795613\n",
       "min      6.900000\n",
       "25%      8.200000\n",
       "50%      8.700000\n",
       "75%      8.700000\n",
       "max      8.800000\n",
       "Name: Food Env Index, dtype: float64"
      ]
     },
     "execution_count": 97,
     "metadata": {},
     "output_type": "execute_result"
    }
   ],
   "source": [
    "#analyzing statistics of Food Environment Index, which ranges from 0 (worst ) to 10 (best) and equally weighs two incidators of the environment: limited access to healthy foods and food insecurity. \n",
    "df2['Food Env Index'].describe()"
   ]
  },
  {
   "cell_type": "code",
   "execution_count": 98,
   "id": "92a8cec5-47bc-4e3d-8b2d-ee91fa79485f",
   "metadata": {},
   "outputs": [
    {
     "data": {
      "text/plain": [
       "8.7"
      ]
     },
     "execution_count": 98,
     "metadata": {},
     "output_type": "execute_result"
    }
   ],
   "source": [
    "df2['Food Env Index'].median()"
   ]
  },
  {
   "cell_type": "code",
   "execution_count": 99,
   "id": "864fb8f5-7b5e-42a3-92d0-c2117b561ec8",
   "metadata": {},
   "outputs": [
    {
     "data": {
      "text/plain": [
       "count     5.000000\n",
       "mean     10.560000\n",
       "std       1.035857\n",
       "min       9.200000\n",
       "25%      10.100000\n",
       "50%      10.400000\n",
       "75%      11.200000\n",
       "max      11.900000\n",
       "Name: Air Pollution Particulate Matter Avg. Daily PM 2.5, dtype: float64"
      ]
     },
     "execution_count": 99,
     "metadata": {},
     "output_type": "execute_result"
    }
   ],
   "source": [
    "df2['Air Pollution Particulate Matter Avg. Daily PM 2.5'].describe()"
   ]
  },
  {
   "cell_type": "code",
   "execution_count": 100,
   "id": "16d467ed-730a-4bfb-8b4e-1d622e81ab82",
   "metadata": {},
   "outputs": [],
   "source": [
    "#This category of data shows the average Daily PM for the county. It looks like PM is higher than 2.5, with the lowest being 8.5 and highest being 13.3. "
   ]
  },
  {
   "cell_type": "code",
   "execution_count": 101,
   "id": "497d8038-a106-4086-bf28-4b4c4831011f",
   "metadata": {},
   "outputs": [
    {
     "data": {
      "text/plain": [
       "count    5.000000\n",
       "mean     3.677978\n",
       "std      0.588385\n",
       "min      3.187519\n",
       "25%      3.255712\n",
       "50%      3.504023\n",
       "75%      3.805849\n",
       "max      4.636788\n",
       "Name: Physically Unhealthy Days/Month, dtype: float64"
      ]
     },
     "execution_count": 101,
     "metadata": {},
     "output_type": "execute_result"
    }
   ],
   "source": [
    "#generating statistics for physically unhealthy days per month.\n",
    "df2['Physically Unhealthy Days/Month'].describe()"
   ]
  },
  {
   "cell_type": "code",
   "execution_count": 102,
   "id": "bbcdaac6-dcb1-414d-bf28-22024648f851",
   "metadata": {},
   "outputs": [
    {
     "data": {
      "text/plain": [
       "count    5.000000\n",
       "mean     4.065926\n",
       "std      0.427990\n",
       "min      3.630721\n",
       "25%      3.925691\n",
       "50%      3.983571\n",
       "75%      4.007199\n",
       "max      4.782447\n",
       "Name: Mentally Unhealthy Days/Month, dtype: float64"
      ]
     },
     "execution_count": 102,
     "metadata": {},
     "output_type": "execute_result"
    }
   ],
   "source": [
    "#generating statistics for mentally unhealthy days per month.\n",
    "df2['Mentally Unhealthy Days/Month'].describe()"
   ]
  },
  {
   "cell_type": "code",
   "execution_count": 103,
   "id": "8336bd50-ecd8-4f62-8b74-0976bc95a7a2",
   "metadata": {},
   "outputs": [
    {
     "data": {
      "text/plain": [
       "<AxesSubplot: xlabel='Physically Unhealthy Days/Month', ylabel='Air Pollution Particulate Matter Avg. Daily PM 2.5'>"
      ]
     },
     "execution_count": 103,
     "metadata": {},
     "output_type": "execute_result"
    },
    {
     "data": {
      "image/png": "[encoded data removed]",
      "text/plain": [
       "<Figure size 640x480 with 1 Axes>"
      ]
     },
     "metadata": {},
     "output_type": "display_data"
    }
   ],
   "source": [
    "#generating a scatter plot looking at physically unhealthy days/month against air pollution particulate matter.\n",
    "df2.plot.scatter(x='Physically Unhealthy Days/Month', y='Air Pollution Particulate Matter Avg. Daily PM 2.5')"
   ]
  },
  {
   "cell_type": "code",
   "execution_count": 104,
   "id": "c72e4ccb-ee86-4b48-a3ab-c15ac12df0db",
   "metadata": {},
   "outputs": [
    {
     "data": {
      "text/plain": [
       "<AxesSubplot: xlabel='Mentally Unhealthy Days/Month', ylabel='Air Pollution Particulate Matter Avg. Daily PM 2.5'>"
      ]
     },
     "execution_count": 104,
     "metadata": {},
     "output_type": "execute_result"
    },
    {
     "data": {
      "image/png": "[encoded data removed]",
      "text/plain": [
       "<Figure size 640x480 with 1 Axes>"
      ]
     },
     "metadata": {},
     "output_type": "display_data"
    }
   ],
   "source": [
    "#generating a scatter plot looking at mentally unhealthy days/month against air pollution particulate matter.\n",
    "df2.plot.scatter(x='Mentally Unhealthy Days/Month', y='Air Pollution Particulate Matter Avg. Daily PM 2.5')"
   ]
  },
  {
   "cell_type": "code",
   "execution_count": 105,
   "id": "9fdc4d79-13d4-4426-94cc-36194fae2219",
   "metadata": {},
   "outputs": [],
   "source": [
    "#Scatter plots are not quite useful to visualize this data set because we're only looking at five counties. "
   ]
  },
  {
   "cell_type": "code",
   "execution_count": 106,
   "id": "2710bf5a-2019-4285-a41b-2a8285e341de",
   "metadata": {},
   "outputs": [
    {
     "data": {
      "text/html": [
       "<div>\n",
       "<style scoped>\n",
       "    .dataframe tbody tr th:only-of-type {\n",
       "        vertical-align: middle;\n",
       "    }\n",
       "\n",
       "    .dataframe tbody tr th {\n",
       "        vertical-align: top;\n",
       "    }\n",
       "\n",
       "    .dataframe thead th {\n",
       "        text-align: right;\n",
       "    }\n",
       "</style>\n",
       "<table border=\"1\" class=\"dataframe\">\n",
       "  <thead>\n",
       "    <tr style=\"text-align: right;\">\n",
       "      <th></th>\n",
       "      <th>FIPS</th>\n",
       "      <th>County</th>\n",
       "      <th>Food Env Index</th>\n",
       "      <th>Physically Unhealthy Days/Month</th>\n",
       "      <th>Mentally Unhealthy Days/Month</th>\n",
       "      <th>Air Pollution Particulate Matter Avg. Daily PM 2.5</th>\n",
       "    </tr>\n",
       "  </thead>\n",
       "  <tbody>\n",
       "    <tr>\n",
       "      <th>4</th>\n",
       "      <td>42101</td>\n",
       "      <td>Philadelphia County, Pennsylvania</td>\n",
       "      <td>6.9</td>\n",
       "      <td>4.636788</td>\n",
       "      <td>4.782447</td>\n",
       "      <td>11.2</td>\n",
       "    </tr>\n",
       "    <tr>\n",
       "      <th>2</th>\n",
       "      <td>42045</td>\n",
       "      <td>Delaware County, Pennsylvania</td>\n",
       "      <td>8.2</td>\n",
       "      <td>3.805849</td>\n",
       "      <td>4.007199</td>\n",
       "      <td>11.9</td>\n",
       "    </tr>\n",
       "    <tr>\n",
       "      <th>1</th>\n",
       "      <td>42029</td>\n",
       "      <td>Chester County, Pennsylvania</td>\n",
       "      <td>8.7</td>\n",
       "      <td>3.504023</td>\n",
       "      <td>3.983571</td>\n",
       "      <td>10.4</td>\n",
       "    </tr>\n",
       "    <tr>\n",
       "      <th>3</th>\n",
       "      <td>42091</td>\n",
       "      <td>Montgomery County, Pennsylvania</td>\n",
       "      <td>8.7</td>\n",
       "      <td>3.187519</td>\n",
       "      <td>3.925691</td>\n",
       "      <td>9.2</td>\n",
       "    </tr>\n",
       "    <tr>\n",
       "      <th>0</th>\n",
       "      <td>42017</td>\n",
       "      <td>Bucks County, Pennsylvania</td>\n",
       "      <td>8.8</td>\n",
       "      <td>3.255712</td>\n",
       "      <td>3.630721</td>\n",
       "      <td>10.1</td>\n",
       "    </tr>\n",
       "  </tbody>\n",
       "</table>\n",
       "</div>"
      ],
      "text/plain": [
       "    FIPS                             County  Food Env Index  \\\n",
       "4  42101  Philadelphia County, Pennsylvania             6.9   \n",
       "2  42045      Delaware County, Pennsylvania             8.2   \n",
       "1  42029       Chester County, Pennsylvania             8.7   \n",
       "3  42091    Montgomery County, Pennsylvania             8.7   \n",
       "0  42017         Bucks County, Pennsylvania             8.8   \n",
       "\n",
       "   Physically Unhealthy Days/Month  Mentally Unhealthy Days/Month  \\\n",
       "4                         4.636788                       4.782447   \n",
       "2                         3.805849                       4.007199   \n",
       "1                         3.504023                       3.983571   \n",
       "3                         3.187519                       3.925691   \n",
       "0                         3.255712                       3.630721   \n",
       "\n",
       "   Air Pollution Particulate Matter Avg. Daily PM 2.5  \n",
       "4                                               11.2   \n",
       "2                                               11.9   \n",
       "1                                               10.4   \n",
       "3                                                9.2   \n",
       "0                                               10.1   "
      ]
     },
     "execution_count": 106,
     "metadata": {},
     "output_type": "execute_result"
    }
   ],
   "source": [
    "df2_foodenvsorted "
   ]
  },
  {
   "cell_type": "code",
   "execution_count": 107,
   "id": "c6be7d0e-507b-4b6a-aba7-a5664eaf61f2",
   "metadata": {},
   "outputs": [
    {
     "data": {
      "text/plain": [
       "<AxesSubplot: title={'center': 'Counties in Philadelphia with Highest Access to Healthy Foods '}, ylabel='County'>"
      ]
     },
     "execution_count": 107,
     "metadata": {},
     "output_type": "execute_result"
    },
    {
     "data": {
      "image/png": "[encoded data removed]",
      "text/plain": [
       "<Figure size 640x480 with 1 Axes>"
      ]
     },
     "metadata": {},
     "output_type": "display_data"
    }
   ],
   "source": [
    "#creating a horizontal bar graph with the first ten rows of the sorted data\n",
    "df2_foodenvsorted.head(10).plot.barh(x='County',\n",
    "                                        y='Food Env Index',\n",
    "                                        title= 'Counties in Philadelphia with Highest Access to Healthy Foods ',\n",
    "                                        color= 'teal')"
   ]
  },
  {
   "cell_type": "code",
   "execution_count": 108,
   "id": "6551c315-5dab-4c8f-89f6-91921adea8bf",
   "metadata": {},
   "outputs": [],
   "source": [
    "#Creating a map (hopefully)"
   ]
  },
  {
   "cell_type": "code",
   "execution_count": 109,
   "id": "17cdd520-cc49-4533-8272-223cc7164453",
   "metadata": {},
   "outputs": [],
   "source": [
    "import geopandas as gpd"
   ]
  },
  {
   "cell_type": "code",
   "execution_count": 168,
   "id": "3b2d0e2b-aac5-443c-92a7-71bc2f43bdb5",
   "metadata": {},
   "outputs": [
    {
     "data": {
      "text/html": [
       "<div>\n",
       "<style scoped>\n",
       "    .dataframe tbody tr th:only-of-type {\n",
       "        vertical-align: middle;\n",
       "    }\n",
       "\n",
       "    .dataframe tbody tr th {\n",
       "        vertical-align: top;\n",
       "    }\n",
       "\n",
       "    .dataframe thead th {\n",
       "        text-align: right;\n",
       "    }\n",
       "</style>\n",
       "<table border=\"1\" class=\"dataframe\">\n",
       "  <thead>\n",
       "    <tr style=\"text-align: right;\">\n",
       "      <th></th>\n",
       "      <th>OBJECTID</th>\n",
       "      <th>STATEFP10</th>\n",
       "      <th>COUNTYFP10</th>\n",
       "      <th>TRACTCE10</th>\n",
       "      <th>GEOID10</th>\n",
       "      <th>NAME10</th>\n",
       "      <th>NAMELSAD10</th>\n",
       "      <th>MTFCC10</th>\n",
       "      <th>FUNCSTAT10</th>\n",
       "      <th>ALAND10</th>\n",
       "      <th>AWATER10</th>\n",
       "      <th>INTPTLAT10</th>\n",
       "      <th>INTPTLON10</th>\n",
       "      <th>LOGRECNO</th>\n",
       "      <th>geometry</th>\n",
       "    </tr>\n",
       "  </thead>\n",
       "  <tbody>\n",
       "    <tr>\n",
       "      <th>379</th>\n",
       "      <td>380</td>\n",
       "      <td>42</td>\n",
       "      <td>101</td>\n",
       "      <td>037200</td>\n",
       "      <td>42101037200</td>\n",
       "      <td>372</td>\n",
       "      <td>Census Tract 372</td>\n",
       "      <td>G5020</td>\n",
       "      <td>S</td>\n",
       "      <td>1028984</td>\n",
       "      <td>0</td>\n",
       "      <td>+39.9129487</td>\n",
       "      <td>-075.1599379</td>\n",
       "      <td>10690</td>\n",
       "      <td>POLYGON ((-75.17135 39.91678, -75.17143 39.916...</td>\n",
       "    </tr>\n",
       "    <tr>\n",
       "      <th>380</th>\n",
       "      <td>381</td>\n",
       "      <td>42</td>\n",
       "      <td>101</td>\n",
       "      <td>038300</td>\n",
       "      <td>42101038300</td>\n",
       "      <td>383</td>\n",
       "      <td>Census Tract 383</td>\n",
       "      <td>G5020</td>\n",
       "      <td>S</td>\n",
       "      <td>3064496</td>\n",
       "      <td>0</td>\n",
       "      <td>+40.0108630</td>\n",
       "      <td>-075.1248984</td>\n",
       "      <td>10700</td>\n",
       "      <td>POLYGON ((-75.11627 40.01743, -75.11660 40.017...</td>\n",
       "    </tr>\n",
       "    <tr>\n",
       "      <th>381</th>\n",
       "      <td>382</td>\n",
       "      <td>42</td>\n",
       "      <td>101</td>\n",
       "      <td>039000</td>\n",
       "      <td>42101039000</td>\n",
       "      <td>390</td>\n",
       "      <td>Census Tract 390</td>\n",
       "      <td>G5020</td>\n",
       "      <td>S</td>\n",
       "      <td>2032689</td>\n",
       "      <td>0</td>\n",
       "      <td>+40.0357300</td>\n",
       "      <td>-075.0938840</td>\n",
       "      <td>10707</td>\n",
       "      <td>POLYGON ((-75.08824 40.04034, -75.08820 40.040...</td>\n",
       "    </tr>\n",
       "    <tr>\n",
       "      <th>382</th>\n",
       "      <td>383</td>\n",
       "      <td>42</td>\n",
       "      <td>101</td>\n",
       "      <td>037800</td>\n",
       "      <td>42101037800</td>\n",
       "      <td>378</td>\n",
       "      <td>Census Tract 378</td>\n",
       "      <td>G5020</td>\n",
       "      <td>S</td>\n",
       "      <td>3760084</td>\n",
       "      <td>1936838</td>\n",
       "      <td>+39.9805802</td>\n",
       "      <td>-075.0956845</td>\n",
       "      <td>10695</td>\n",
       "      <td>POLYGON ((-75.11051 39.96952, -75.10676 39.970...</td>\n",
       "    </tr>\n",
       "    <tr>\n",
       "      <th>383</th>\n",
       "      <td>384</td>\n",
       "      <td>42</td>\n",
       "      <td>101</td>\n",
       "      <td>037700</td>\n",
       "      <td>42101037700</td>\n",
       "      <td>377</td>\n",
       "      <td>Census Tract 377</td>\n",
       "      <td>G5020</td>\n",
       "      <td>S</td>\n",
       "      <td>736894</td>\n",
       "      <td>0</td>\n",
       "      <td>+39.9824381</td>\n",
       "      <td>-075.1506932</td>\n",
       "      <td>10694</td>\n",
       "      <td>POLYGON ((-75.15170 39.98571, -75.15249 39.985...</td>\n",
       "    </tr>\n",
       "  </tbody>\n",
       "</table>\n",
       "</div>"
      ],
      "text/plain": [
       "     OBJECTID STATEFP10 COUNTYFP10 TRACTCE10      GEOID10 NAME10  \\\n",
       "379       380        42        101    037200  42101037200    372   \n",
       "380       381        42        101    038300  42101038300    383   \n",
       "381       382        42        101    039000  42101039000    390   \n",
       "382       383        42        101    037800  42101037800    378   \n",
       "383       384        42        101    037700  42101037700    377   \n",
       "\n",
       "           NAMELSAD10 MTFCC10 FUNCSTAT10  ALAND10  AWATER10   INTPTLAT10  \\\n",
       "379  Census Tract 372   G5020          S  1028984         0  +39.9129487   \n",
       "380  Census Tract 383   G5020          S  3064496         0  +40.0108630   \n",
       "381  Census Tract 390   G5020          S  2032689         0  +40.0357300   \n",
       "382  Census Tract 378   G5020          S  3760084   1936838  +39.9805802   \n",
       "383  Census Tract 377   G5020          S   736894         0  +39.9824381   \n",
       "\n",
       "       INTPTLON10 LOGRECNO                                           geometry  \n",
       "379  -075.1599379    10690  POLYGON ((-75.17135 39.91678, -75.17143 39.916...  \n",
       "380  -075.1248984    10700  POLYGON ((-75.11627 40.01743, -75.11660 40.017...  \n",
       "381  -075.0938840    10707  POLYGON ((-75.08824 40.04034, -75.08820 40.040...  \n",
       "382  -075.0956845    10695  POLYGON ((-75.11051 39.96952, -75.10676 39.970...  \n",
       "383  -075.1506932    10694  POLYGON ((-75.15170 39.98571, -75.15249 39.985...  "
      ]
     },
     "execution_count": 168,
     "metadata": {},
     "output_type": "execute_result"
    }
   ],
   "source": [
    "#pulling in geoson file download from open data Philadelphia\n",
    "tracts=gpd.read_file('data/Census_Tracts_2010.geojson')\n",
    "tracts.tail()"
   ]
  },
  {
   "cell_type": "code",
   "execution_count": 169,
   "id": "d6df1dab-08be-4147-b7d0-6305b110a8ab",
   "metadata": {},
   "outputs": [
    {
     "data": {
      "text/plain": [
       "<AxesSubplot: >"
      ]
     },
     "execution_count": 169,
     "metadata": {},
     "output_type": "execute_result"
    },
    {
     "data": {
      "image/png": "[encoded data removed]",
      "text/plain": [
       "<Figure size 1400x1000 with 1 Axes>"
      ]
     },
     "metadata": {},
     "output_type": "display_data"
    }
   ],
   "source": [
    "#now plotting it\n",
    "tracts.plot(figsize=(14,10))"
   ]
  },
  {
   "cell_type": "code",
   "execution_count": 170,
   "id": "4a24b199-8330-4c3f-a9ad-3b522df5d677",
   "metadata": {},
   "outputs": [
    {
     "name": "stdout",
     "output_type": "stream",
     "text": [
      "<class 'geopandas.geodataframe.GeoDataFrame'>\n",
      "RangeIndex: 384 entries, 0 to 383\n",
      "Data columns (total 15 columns):\n",
      " #   Column      Non-Null Count  Dtype   \n",
      "---  ------      --------------  -----   \n",
      " 0   OBJECTID    384 non-null    int64   \n",
      " 1   STATEFP10   384 non-null    object  \n",
      " 2   COUNTYFP10  384 non-null    object  \n",
      " 3   TRACTCE10   384 non-null    object  \n",
      " 4   GEOID10     384 non-null    object  \n",
      " 5   NAME10      384 non-null    object  \n",
      " 6   NAMELSAD10  384 non-null    object  \n",
      " 7   MTFCC10     384 non-null    object  \n",
      " 8   FUNCSTAT10  384 non-null    object  \n",
      " 9   ALAND10     384 non-null    int64   \n",
      " 10  AWATER10    384 non-null    int64   \n",
      " 11  INTPTLAT10  384 non-null    object  \n",
      " 12  INTPTLON10  384 non-null    object  \n",
      " 13  LOGRECNO    384 non-null    object  \n",
      " 14  geometry    384 non-null    geometry\n",
      "dtypes: geometry(1), int64(3), object(11)\n",
      "memory usage: 45.1+ KB\n"
     ]
    }
   ],
   "source": [
    "#better understanding what kind of data this map is comprised of\n",
    "tracts.info(verbose=True, show_counts=True)"
   ]
  },
  {
   "cell_type": "code",
   "execution_count": 171,
   "id": "f1415937-8376-4854-9325-b16aa6ba7d8b",
   "metadata": {},
   "outputs": [
    {
     "data": {
      "text/html": [
       "<div>\n",
       "<style scoped>\n",
       "    .dataframe tbody tr th:only-of-type {\n",
       "        vertical-align: middle;\n",
       "    }\n",
       "\n",
       "    .dataframe tbody tr th {\n",
       "        vertical-align: top;\n",
       "    }\n",
       "\n",
       "    .dataframe thead th {\n",
       "        text-align: right;\n",
       "    }\n",
       "</style>\n",
       "<table border=\"1\" class=\"dataframe\">\n",
       "  <thead>\n",
       "    <tr style=\"text-align: right;\">\n",
       "      <th></th>\n",
       "      <th>TRACTCE10</th>\n",
       "      <th>geometry</th>\n",
       "    </tr>\n",
       "  </thead>\n",
       "  <tbody>\n",
       "    <tr>\n",
       "      <th>0</th>\n",
       "      <td>009400</td>\n",
       "      <td>POLYGON ((-75.22927 39.96054, -75.22865 39.960...</td>\n",
       "    </tr>\n",
       "    <tr>\n",
       "      <th>1</th>\n",
       "      <td>009500</td>\n",
       "      <td>POLYGON ((-75.23536 39.96852, -75.23545 39.969...</td>\n",
       "    </tr>\n",
       "    <tr>\n",
       "      <th>2</th>\n",
       "      <td>009600</td>\n",
       "      <td>POLYGON ((-75.24343 39.96230, -75.24339 39.962...</td>\n",
       "    </tr>\n",
       "    <tr>\n",
       "      <th>3</th>\n",
       "      <td>013800</td>\n",
       "      <td>POLYGON ((-75.17341 39.97779, -75.17386 39.977...</td>\n",
       "    </tr>\n",
       "    <tr>\n",
       "      <th>4</th>\n",
       "      <td>013900</td>\n",
       "      <td>POLYGON ((-75.17313 39.97776, -75.17321 39.977...</td>\n",
       "    </tr>\n",
       "  </tbody>\n",
       "</table>\n",
       "</div>"
      ],
      "text/plain": [
       "  TRACTCE10                                           geometry\n",
       "0    009400  POLYGON ((-75.22927 39.96054, -75.22865 39.960...\n",
       "1    009500  POLYGON ((-75.23536 39.96852, -75.23545 39.969...\n",
       "2    009600  POLYGON ((-75.24343 39.96230, -75.24339 39.962...\n",
       "3    013800  POLYGON ((-75.17341 39.97779, -75.17386 39.977...\n",
       "4    013900  POLYGON ((-75.17313 39.97776, -75.17321 39.977..."
      ]
     },
     "execution_count": 171,
     "metadata": {},
     "output_type": "execute_result"
    }
   ],
   "source": [
    "#subsetting FIPS and Geometry\n",
    "tracts= tracts[['TRACTCE10','geometry']]\n",
    "tracts.head()"
   ]
  },
  {
   "cell_type": "code",
   "execution_count": 177,
   "id": "87505c81-228a-42c1-99dd-609905bada11",
   "metadata": {},
   "outputs": [
    {
     "ename": "SyntaxError",
     "evalue": "invalid syntax (336098136.py, line 2)",
     "output_type": "error",
     "traceback": [
      "\u001b[0;36m  Cell \u001b[0;32mIn[177], line 2\u001b[0;36m\u001b[0m\n\u001b[0;31m    tracts['FIPS'] = '42' + '017' + '029' + '045' + ' 091' + '101' tracts['TRACTCE10']\u001b[0m\n\u001b[0m                                                                   ^\u001b[0m\n\u001b[0;31mSyntaxError\u001b[0m\u001b[0;31m:\u001b[0m invalid syntax\n"
     ]
    }
   ],
   "source": [
    "#creating a FIPS column\n",
    "tracts['FIPS'] = '42' + '017' + '029' + '045' + ' 091' + '101' tracts['TRACTCE10']"
   ]
  },
  {
   "cell_type": "code",
   "execution_count": 178,
   "id": "bc155c9b-9007-46b7-bef9-862ee4abde08",
   "metadata": {},
   "outputs": [
    {
     "data": {
      "text/html": [
       "<div>\n",
       "<style scoped>\n",
       "    .dataframe tbody tr th:only-of-type {\n",
       "        vertical-align: middle;\n",
       "    }\n",
       "\n",
       "    .dataframe tbody tr th {\n",
       "        vertical-align: top;\n",
       "    }\n",
       "\n",
       "    .dataframe thead th {\n",
       "        text-align: right;\n",
       "    }\n",
       "</style>\n",
       "<table border=\"1\" class=\"dataframe\">\n",
       "  <thead>\n",
       "    <tr style=\"text-align: right;\">\n",
       "      <th></th>\n",
       "      <th>TRACTCE10</th>\n",
       "      <th>geometry</th>\n",
       "      <th>FIPS</th>\n",
       "    </tr>\n",
       "  </thead>\n",
       "  <tbody>\n",
       "    <tr>\n",
       "      <th>0</th>\n",
       "      <td>009400</td>\n",
       "      <td>POLYGON ((-75.22927 39.96054, -75.22865 39.960...</td>\n",
       "      <td>42009400</td>\n",
       "    </tr>\n",
       "    <tr>\n",
       "      <th>1</th>\n",
       "      <td>009500</td>\n",
       "      <td>POLYGON ((-75.23536 39.96852, -75.23545 39.969...</td>\n",
       "      <td>42009500</td>\n",
       "    </tr>\n",
       "    <tr>\n",
       "      <th>2</th>\n",
       "      <td>009600</td>\n",
       "      <td>POLYGON ((-75.24343 39.96230, -75.24339 39.962...</td>\n",
       "      <td>42009600</td>\n",
       "    </tr>\n",
       "    <tr>\n",
       "      <th>3</th>\n",
       "      <td>013800</td>\n",
       "      <td>POLYGON ((-75.17341 39.97779, -75.17386 39.977...</td>\n",
       "      <td>42013800</td>\n",
       "    </tr>\n",
       "    <tr>\n",
       "      <th>4</th>\n",
       "      <td>013900</td>\n",
       "      <td>POLYGON ((-75.17313 39.97776, -75.17321 39.977...</td>\n",
       "      <td>42013900</td>\n",
       "    </tr>\n",
       "  </tbody>\n",
       "</table>\n",
       "</div>"
      ],
      "text/plain": [
       "  TRACTCE10                                           geometry      FIPS\n",
       "0    009400  POLYGON ((-75.22927 39.96054, -75.22865 39.960...  42009400\n",
       "1    009500  POLYGON ((-75.23536 39.96852, -75.23545 39.969...  42009500\n",
       "2    009600  POLYGON ((-75.24343 39.96230, -75.24339 39.962...  42009600\n",
       "3    013800  POLYGON ((-75.17341 39.97779, -75.17386 39.977...  42013800\n",
       "4    013900  POLYGON ((-75.17313 39.97776, -75.17321 39.977...  42013900"
      ]
     },
     "execution_count": 178,
     "metadata": {},
     "output_type": "execute_result"
    }
   ],
   "source": [
    "#hoping this works\n",
    "tracts.head()"
   ]
  },
  {
   "cell_type": "code",
   "execution_count": 179,
   "id": "9bae90aa-9e8e-40ac-8721-30e443245f48",
   "metadata": {},
   "outputs": [],
   "source": [
    "#creating a new dataframe that merges the two data sets\n",
    "tracts_health=tracts.merge(df2,on=\"FIPS\")"
   ]
  },
  {
   "cell_type": "code",
   "execution_count": 180,
   "id": "c78cddba-64ab-4a65-9ff0-86f98cca8809",
   "metadata": {},
   "outputs": [
    {
     "data": {
      "text/html": [
       "<div>\n",
       "<style scoped>\n",
       "    .dataframe tbody tr th:only-of-type {\n",
       "        vertical-align: middle;\n",
       "    }\n",
       "\n",
       "    .dataframe tbody tr th {\n",
       "        vertical-align: top;\n",
       "    }\n",
       "\n",
       "    .dataframe thead th {\n",
       "        text-align: right;\n",
       "    }\n",
       "</style>\n",
       "<table border=\"1\" class=\"dataframe\">\n",
       "  <thead>\n",
       "    <tr style=\"text-align: right;\">\n",
       "      <th></th>\n",
       "      <th>TRACTCE10</th>\n",
       "      <th>geometry</th>\n",
       "      <th>FIPS</th>\n",
       "      <th>County</th>\n",
       "      <th>Food Env Index</th>\n",
       "      <th>Physically Unhealthy Days/Month</th>\n",
       "      <th>Mentally Unhealthy Days/Month</th>\n",
       "      <th>Air Pollution Particulate Matter Avg. Daily PM 2.5</th>\n",
       "    </tr>\n",
       "  </thead>\n",
       "  <tbody>\n",
       "  </tbody>\n",
       "</table>\n",
       "</div>"
      ],
      "text/plain": [
       "Empty GeoDataFrame\n",
       "Columns: [TRACTCE10, geometry, FIPS, County, Food Env Index, Physically Unhealthy Days/Month, Mentally Unhealthy Days/Month, Air Pollution Particulate Matter Avg. Daily PM 2.5]\n",
       "Index: []"
      ]
     },
     "execution_count": 180,
     "metadata": {},
     "output_type": "execute_result"
    }
   ],
   "source": [
    "#confirming merge\n",
    "tracts_health.head()"
   ]
  },
  {
   "cell_type": "code",
   "execution_count": 176,
   "id": "346e71db-6bb9-4312-8fd3-b43daa8bab57",
   "metadata": {},
   "outputs": [
    {
     "ename": "TypeError",
     "evalue": "bad operand type for unary +: 'str'",
     "output_type": "error",
     "traceback": [
      "\u001b[0;31m---------------------------------------------------------------------------\u001b[0m",
      "\u001b[0;31mTypeError\u001b[0m                                 Traceback (most recent call last)",
      "Cell \u001b[0;32mIn[176], line 1\u001b[0m\n\u001b[0;32m----> 1\u001b[0m \u001b[38;5;241;43m+\u001b[39;49m\u001b[43m \u001b[49m\u001b[38;5;124;43m'\u001b[39;49m\u001b[38;5;124;43m017\u001b[39;49m\u001b[38;5;124;43m'\u001b[39;49m \u001b[38;5;241m+\u001b[39m \u001b[38;5;124m'\u001b[39m\u001b[38;5;124m029\u001b[39m\u001b[38;5;124m'\u001b[39m \u001b[38;5;241m+\u001b[39m \u001b[38;5;124m'\u001b[39m\u001b[38;5;124m045\u001b[39m\u001b[38;5;124m'\u001b[39m \u001b[38;5;241m+\u001b[39m \u001b[38;5;124m'\u001b[39m\u001b[38;5;124m 091\u001b[39m\u001b[38;5;124m'\u001b[39m \u001b[38;5;241m+\u001b[39m \u001b[38;5;124m'\u001b[39m\u001b[38;5;124m101\u001b[39m\u001b[38;5;124m'\u001b[39m \n",
      "\u001b[0;31mTypeError\u001b[0m: bad operand type for unary +: 'str'"
     ]
    }
   ],
   "source": [
    "+ '017' + '029' + '045' + ' 091' + '101' "
   ]
  },
  {
   "cell_type": "code",
   "execution_count": null,
   "id": "c1679cf3-4dfe-4a75-a47f-08e3fad94822",
   "metadata": {},
   "outputs": [],
   "source": []
  }
 ],
 "metadata": {
  "kernelspec": {
   "display_name": "Python 3 (ipykernel)",
   "language": "python",
   "name": "python3"
  },
  "language_info": {
   "codemirror_mode": {
    "name": "ipython",
    "version": 3
   },
   "file_extension": ".py",
   "mimetype": "text/x-python",
   "name": "python",
   "nbconvert_exporter": "python",
   "pygments_lexer": "ipython3",
   "version": "3.10.8"
  }
 },
 "nbformat": 4,
 "nbformat_minor": 5
}
